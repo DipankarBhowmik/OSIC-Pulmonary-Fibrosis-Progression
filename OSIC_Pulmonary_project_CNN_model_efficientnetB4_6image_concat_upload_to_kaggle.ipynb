{
 "cells": [
  {
   "cell_type": "markdown",
   "metadata": {
    "id": "OOyXlX88Wu0y"
   },
   "source": [
    "# Six input images pass through EfficientNetB4 with tabular data\n",
    "\n",
    "\n",
    "###  Kaggle competetion https://www.kaggle.com/c/osic-pulmonary-fibrosis-progression\n",
    "\n",
    "### Data source https://www.kaggle.com/c/osic-pulmonary-fibrosis-progression/data\n"
   ]
  },
  {
   "cell_type": "code",
   "execution_count": null,
   "metadata": {
    "colab": {
     "base_uri": "https://localhost:8080/"
    },
    "id": "6EDaLDqBFJrS",
    "outputId": "3d41a932-e26f-4eca-f58b-885ab6fe6499"
   },
   "outputs": [
    {
     "name": "stdout",
     "output_type": "stream",
     "text": [
      "Collecting pydicom\n",
      "  Downloading pydicom-2.2.0-py3-none-any.whl (1.9 MB)\n",
      "\u001b[K     |████████████████████████████████| 1.9 MB 8.1 MB/s \n",
      "\u001b[?25hInstalling collected packages: pydicom\n",
      "Successfully installed pydicom-2.2.0\n"
     ]
    }
   ],
   "source": [
    "pip install pydicom #installation of pydicom"
   ]
  },
  {
   "cell_type": "code",
   "execution_count": null,
   "metadata": {
    "colab": {
     "base_uri": "https://localhost:8080/"
    },
    "id": "cOxB0hC_Fyl2",
    "outputId": "3c983a7a-f0b1-4a69-9b7a-6c2f7587ea54"
   },
   "outputs": [
    {
     "name": "stdout",
     "output_type": "stream",
     "text": [
      "Collecting tensorflow-addons\n",
      "  Downloading tensorflow_addons-0.13.0-cp37-cp37m-manylinux2010_x86_64.whl (679 kB)\n",
      "\u001b[?25l\r",
      "\u001b[K     |▌                               | 10 kB 32.7 MB/s eta 0:00:01\r",
      "\u001b[K     |█                               | 20 kB 31.2 MB/s eta 0:00:01\r",
      "\u001b[K     |█▌                              | 30 kB 20.0 MB/s eta 0:00:01\r",
      "\u001b[K     |██                              | 40 kB 17.8 MB/s eta 0:00:01\r",
      "\u001b[K     |██▍                             | 51 kB 7.6 MB/s eta 0:00:01\r",
      "\u001b[K     |███                             | 61 kB 9.0 MB/s eta 0:00:01\r",
      "\u001b[K     |███▍                            | 71 kB 8.4 MB/s eta 0:00:01\r",
      "\u001b[K     |███▉                            | 81 kB 9.5 MB/s eta 0:00:01\r",
      "\u001b[K     |████▍                           | 92 kB 10.2 MB/s eta 0:00:01\r",
      "\u001b[K     |████▉                           | 102 kB 8.1 MB/s eta 0:00:01\r",
      "\u001b[K     |█████▎                          | 112 kB 8.1 MB/s eta 0:00:01\r",
      "\u001b[K     |█████▉                          | 122 kB 8.1 MB/s eta 0:00:01\r",
      "\u001b[K     |██████▎                         | 133 kB 8.1 MB/s eta 0:00:01\r",
      "\u001b[K     |██████▊                         | 143 kB 8.1 MB/s eta 0:00:01\r",
      "\u001b[K     |███████▎                        | 153 kB 8.1 MB/s eta 0:00:01\r",
      "\u001b[K     |███████▊                        | 163 kB 8.1 MB/s eta 0:00:01\r",
      "\u001b[K     |████████▏                       | 174 kB 8.1 MB/s eta 0:00:01\r",
      "\u001b[K     |████████▊                       | 184 kB 8.1 MB/s eta 0:00:01\r",
      "\u001b[K     |█████████▏                      | 194 kB 8.1 MB/s eta 0:00:01\r",
      "\u001b[K     |█████████▋                      | 204 kB 8.1 MB/s eta 0:00:01\r",
      "\u001b[K     |██████████▏                     | 215 kB 8.1 MB/s eta 0:00:01\r",
      "\u001b[K     |██████████▋                     | 225 kB 8.1 MB/s eta 0:00:01\r",
      "\u001b[K     |███████████                     | 235 kB 8.1 MB/s eta 0:00:01\r",
      "\u001b[K     |███████████▋                    | 245 kB 8.1 MB/s eta 0:00:01\r",
      "\u001b[K     |████████████                    | 256 kB 8.1 MB/s eta 0:00:01\r",
      "\u001b[K     |████████████▌                   | 266 kB 8.1 MB/s eta 0:00:01\r",
      "\u001b[K     |█████████████                   | 276 kB 8.1 MB/s eta 0:00:01\r",
      "\u001b[K     |█████████████▌                  | 286 kB 8.1 MB/s eta 0:00:01\r",
      "\u001b[K     |██████████████                  | 296 kB 8.1 MB/s eta 0:00:01\r",
      "\u001b[K     |██████████████▌                 | 307 kB 8.1 MB/s eta 0:00:01\r",
      "\u001b[K     |███████████████                 | 317 kB 8.1 MB/s eta 0:00:01\r",
      "\u001b[K     |███████████████▍                | 327 kB 8.1 MB/s eta 0:00:01\r",
      "\u001b[K     |████████████████                | 337 kB 8.1 MB/s eta 0:00:01\r",
      "\u001b[K     |████████████████▍               | 348 kB 8.1 MB/s eta 0:00:01\r",
      "\u001b[K     |████████████████▉               | 358 kB 8.1 MB/s eta 0:00:01\r",
      "\u001b[K     |█████████████████▍              | 368 kB 8.1 MB/s eta 0:00:01\r",
      "\u001b[K     |█████████████████▉              | 378 kB 8.1 MB/s eta 0:00:01\r",
      "\u001b[K     |██████████████████▎             | 389 kB 8.1 MB/s eta 0:00:01\r",
      "\u001b[K     |██████████████████▉             | 399 kB 8.1 MB/s eta 0:00:01\r",
      "\u001b[K     |███████████████████▎            | 409 kB 8.1 MB/s eta 0:00:01\r",
      "\u001b[K     |███████████████████▊            | 419 kB 8.1 MB/s eta 0:00:01\r",
      "\u001b[K     |████████████████████▎           | 430 kB 8.1 MB/s eta 0:00:01\r",
      "\u001b[K     |████████████████████▊           | 440 kB 8.1 MB/s eta 0:00:01\r",
      "\u001b[K     |█████████████████████▏          | 450 kB 8.1 MB/s eta 0:00:01\r",
      "\u001b[K     |█████████████████████▊          | 460 kB 8.1 MB/s eta 0:00:01\r",
      "\u001b[K     |██████████████████████▏         | 471 kB 8.1 MB/s eta 0:00:01\r",
      "\u001b[K     |██████████████████████▋         | 481 kB 8.1 MB/s eta 0:00:01\r",
      "\u001b[K     |███████████████████████▏        | 491 kB 8.1 MB/s eta 0:00:01\r",
      "\u001b[K     |███████████████████████▋        | 501 kB 8.1 MB/s eta 0:00:01\r",
      "\u001b[K     |████████████████████████        | 512 kB 8.1 MB/s eta 0:00:01\r",
      "\u001b[K     |████████████████████████▋       | 522 kB 8.1 MB/s eta 0:00:01\r",
      "\u001b[K     |█████████████████████████       | 532 kB 8.1 MB/s eta 0:00:01\r",
      "\u001b[K     |█████████████████████████▌      | 542 kB 8.1 MB/s eta 0:00:01\r",
      "\u001b[K     |██████████████████████████      | 552 kB 8.1 MB/s eta 0:00:01\r",
      "\u001b[K     |██████████████████████████▌     | 563 kB 8.1 MB/s eta 0:00:01\r",
      "\u001b[K     |███████████████████████████     | 573 kB 8.1 MB/s eta 0:00:01\r",
      "\u001b[K     |███████████████████████████▌    | 583 kB 8.1 MB/s eta 0:00:01\r",
      "\u001b[K     |████████████████████████████    | 593 kB 8.1 MB/s eta 0:00:01\r",
      "\u001b[K     |████████████████████████████▍   | 604 kB 8.1 MB/s eta 0:00:01\r",
      "\u001b[K     |█████████████████████████████   | 614 kB 8.1 MB/s eta 0:00:01\r",
      "\u001b[K     |█████████████████████████████▍  | 624 kB 8.1 MB/s eta 0:00:01\r",
      "\u001b[K     |█████████████████████████████▉  | 634 kB 8.1 MB/s eta 0:00:01\r",
      "\u001b[K     |██████████████████████████████▍ | 645 kB 8.1 MB/s eta 0:00:01\r",
      "\u001b[K     |██████████████████████████████▉ | 655 kB 8.1 MB/s eta 0:00:01\r",
      "\u001b[K     |███████████████████████████████▎| 665 kB 8.1 MB/s eta 0:00:01\r",
      "\u001b[K     |███████████████████████████████▉| 675 kB 8.1 MB/s eta 0:00:01\r",
      "\u001b[K     |████████████████████████████████| 679 kB 8.1 MB/s \n",
      "\u001b[?25hRequirement already satisfied: typeguard>=2.7 in /usr/local/lib/python3.7/dist-packages (from tensorflow-addons) (2.7.1)\n",
      "Installing collected packages: tensorflow-addons\n",
      "Successfully installed tensorflow-addons-0.13.0\n"
     ]
    }
   ],
   "source": [
    "pip install tensorflow-addons #installation of tensorflow-addons"
   ]
  },
  {
   "cell_type": "code",
   "execution_count": null,
   "metadata": {
    "id": "hiiHIKKnD-lo"
   },
   "outputs": [],
   "source": [
    "from google.colab import drive # Downloading Datasets into Google Drive via Google Colab\n",
    "import os.path     # suitable for the operating system Python is running on\n",
    "import os \n",
    "import cv2         # solve computer vision problems\n",
    "import pydicom\n",
    "import pandas as pd# data structures and operations for manipulating numerical tables and time series.\n",
    "import numpy as np # support for large, multi-dimensional arrays and matrices, along with a large collection of high-level \n",
    "                   # mathematical functions to operate on these arrays.\n",
    "import matplotlib.pyplot as plt #API for embedding plots into applications using GUI toolkits like Tkinter, wxPython, Qt, or GTK.\n",
    "import tensorflow as tf # training and inference of deep neural networks\n",
    "from tqdm.notebook import tqdm # display smart progress bars that show the progress of Python code execution\n",
    "import seaborn as sns # a visualization library based on matplotlib\n",
    "\n",
    "from sklearn.model_selection import train_test_split #Meta-transformer for selecting features based on importance weights\n",
    "\n",
    "import tensorflow.keras.utils # Converts a Keras model to dot format and save to a file\n",
    "from tensorflow.keras.utils import Sequence # Base object for fitting to a sequence of data, such as a dataset\n",
    "from tensorflow.keras.layers import (Dense, Dropout, Activation, Flatten, Input, BatchNormalization, GlobalAveragePooling2D, Add, Conv2D, AveragePooling2D, \n",
    "    LeakyReLU, Concatenate, MaxPooling2D, GlobalMaxPooling2D)\n",
    "# class Activation: Applies an activation function to an output;\n",
    "# class BatchNormalization: Layer that normalizes its inputs.\n",
    "# class Concatenate: Layer that concatenates a list of inputs.\n",
    "# class Dense: Just your regular densely-connected NN layer;\n",
    "# class Dropout: Applies Dropout to the input.\n",
    "# class Flatten: Flattens the input. Does not affect the batch size.\n",
    "# class GlobalAveragePooling2D: Global average pooling operation for spatial data.\n",
    "# class GlobalAvgPool2D: Global average pooling operation for spatial data.\n",
    "from tensorflow.keras.layers.experimental import preprocessing # developers to build Keras-native input processing pipelines\n",
    "    \n",
    "from tensorflow.keras import Model # class Model: Model groups layers into an object with training and inference features.\n",
    "from tensorflow.keras.models import Sequential # class Sequential: Sequential groups a linear stack of layers into a tf.keras.Model\n",
    "from tensorflow.keras.applications import EfficientNetB4 # Instantiates the EfficientNetB4 architecture."
   ]
  },
  {
   "cell_type": "markdown",
   "metadata": {
    "id": "FO9GFFmn3BoQ"
   },
   "source": [
    "### Mounting first drive for a part of DICOM files."
   ]
  },
  {
   "cell_type": "code",
   "execution_count": null,
   "metadata": {
    "colab": {
     "base_uri": "https://localhost:8080/"
    },
    "id": "nybEoxLcEm-N",
    "outputId": "39b1d095-2d59-4c61-8d29-b17888de3199"
   },
   "outputs": [
    {
     "name": "stdout",
     "output_type": "stream",
     "text": [
      "Mounted at /content/drive\n"
     ]
    }
   ],
   "source": [
    "drive.mount('/content/drive') # for mounting Google Drive files "
   ]
  },
  {
   "cell_type": "code",
   "execution_count": null,
   "metadata": {
    "colab": {
     "base_uri": "https://localhost:8080/"
    },
    "id": "ZR-iE0tXEnPG",
    "outputId": "87462a65-fe39-4c23-b0f0-6dd6c760338b"
   },
   "outputs": [
    {
     "name": "stdout",
     "output_type": "stream",
     "text": [
      "Available dataset partitions:  ['ID00197637202246865691526', 'ID00207637202252526380974', 'ID00196637202246668775836', 'ID00190637202244450116191', 'ID00184637202242062969203', 'ID00186637202242472088675', 'ID00199637202248141386743', 'ID00210637202257228694086', 'ID00202637202249376026949', 'ID00192637202245493238298', 'ID00219637202258203123958', 'ID00216637202257988213445', 'ID00221637202258717315571', 'ID00213637202257692916109', 'ID00224637202259281193413', 'ID00228637202259965313869', 'ID00218637202258156844710', 'ID00214637202257820847190', 'ID00222637202259066229764', 'ID00225637202259339837603', 'ID00233637202260580149633', 'ID00242637202264759739921', 'ID00240637202264138860065', 'ID00229637202260254240583', 'ID00241637202264294508775', 'ID00248637202266698862378', 'ID00234637202261078001846', 'ID00232637202260377586117', 'ID00235637202261451839085', 'ID00249637202266730854017', 'ID00267637202270790561585', 'ID00279637202272164826258', 'ID00273637202271319294586', 'ID00251637202267455595113', 'ID00283637202278714365037', 'ID00276637202271694539978', 'ID00264637202270643353440', 'ID00255637202267923028520', 'ID00275637202271440119890', 'ID00285637202278913507108', 'ID00291637202279398396106', 'ID00294637202279614924243', 'ID00305637202281772703145', 'ID00309637202282195513787', 'ID00298637202280361773446', 'ID00299637202280383305867', 'ID00290637202279304677843', 'ID00307637202282126172865', 'ID00296637202279895784347', 'ID00288637202279148973731', 'ID00317637202283194142136', 'ID00322637202284842245491', 'ID00312637202282607344793', 'ID00331637202286306023714', 'ID00337637202286839091062', 'ID00329637202285906759848', 'ID00319637202283897208687', 'ID00336637202286801879145', 'ID00335637202286784464927', 'ID00323637202285211956970', 'ID00360637202295712204040', 'ID00342637202287526592911', 'ID00340637202287399835821', 'ID00351637202289476567312', 'ID00339637202287377736231', 'ID00341637202287410878488', 'ID00344637202287684217717', 'ID00343637202287577133798', 'ID00355637202295106567614', 'ID00358637202295388077032', 'ID00367637202296290303449', 'ID00368637202296470751086', 'ID00376637202297677828573', 'ID00371637202296828615743', 'ID00381637202299644114027', 'ID00370637202296737666151', 'ID00365637202296085035729', 'ID00364637202296074419422', 'ID00383637202300493233675', 'ID00378637202298597306391', 'ID00408637202308839708961', 'ID00411637202309374271828', 'ID00400637202305055099402', 'ID00407637202308788732304', 'ID00401637202305320178010', 'ID00405637202308359492977', 'ID00398637202303897337979', 'ID00388637202301028491611', 'ID00392637202302319160044', 'ID00393637202302431697467', 'ID00422637202311677017371', 'ID00417637202310901214011', 'ID00423637202312137826377', 'ID00421637202311550012437', 'ID00414637202310318891556', 'ID00419637202311204720264', 'ID00426637202313170790466', 'rgb']\n"
     ]
    }
   ],
   "source": [
    "P1 = os.listdir('drive/My Drive/Colab Notebooks/train1')\n",
    "print('Available dataset partitions: ',P1)"
   ]
  },
  {
   "cell_type": "markdown",
   "metadata": {
    "id": "yk9b9aMX27F4"
   },
   "source": [
    "### Mounting second drive for rest of DICOM files."
   ]
  },
  {
   "cell_type": "code",
   "execution_count": null,
   "metadata": {
    "colab": {
     "base_uri": "https://localhost:8080/"
    },
    "id": "_oHO757eIWJJ",
    "outputId": "0c594072-fa87-477e-b66a-55719b095c73"
   },
   "outputs": [
    {
     "name": "stdout",
     "output_type": "stream",
     "text": [
      "E: Package 'python-software-properties' has no installation candidate\n",
      "Selecting previously unselected package google-drive-ocamlfuse.\n",
      "(Reading database ... 148486 files and directories currently installed.)\n",
      "Preparing to unpack .../google-drive-ocamlfuse_0.7.26-0ubuntu1~ubuntu18.04.1_amd64.deb ...\n",
      "Unpacking google-drive-ocamlfuse (0.7.26-0ubuntu1~ubuntu18.04.1) ...\n",
      "Setting up google-drive-ocamlfuse (0.7.26-0ubuntu1~ubuntu18.04.1) ...\n",
      "Processing triggers for man-db (2.8.3-2ubuntu0.1) ...\n",
      "Please, open the following URL in a web browser: https://accounts.google.com/o/oauth2/auth?client_id=32555940559.apps.googleusercontent.com&redirect_uri=urn%3Aietf%3Awg%3Aoauth%3A2.0%3Aoob&scope=https%3A%2F%2Fwww.googleapis.com%2Fauth%2Fdrive&response_type=code&access_type=offline&approval_prompt=force\n",
      "··········\n",
      "Please, open the following URL in a web browser: https://accounts.google.com/o/oauth2/auth?client_id=32555940559.apps.googleusercontent.com&redirect_uri=urn%3Aietf%3Awg%3Aoauth%3A2.0%3Aoob&scope=https%3A%2F%2Fwww.googleapis.com%2Fauth%2Fdrive&response_type=code&access_type=offline&approval_prompt=force\n",
      "Please enter the verification code: Access token retrieved correctly.\n"
     ]
    }
   ],
   "source": [
    "#https://stackoverflow.com/a/51757115\n",
    "#Below code will allow us to access two drive at a time \n",
    "!apt-get install -y -qq software-properties-common python-software-properties module-init-tools\n",
    "!add-apt-repository -y ppa:alessandro-strada/ppa 2>&1 > /dev/null\n",
    "!apt-get update -qq 2>&1 > /dev/null\n",
    "!apt-get -y install -qq google-drive-ocamlfuse fuse\n",
    "from google.colab import auth\n",
    "auth.authenticate_user()\n",
    "from oauth2client.client import GoogleCredentials\n",
    "creds = GoogleCredentials.get_application_default()\n",
    "import getpass\n",
    "!google-drive-ocamlfuse -headless -id={creds.client_id} -secret={creds.client_secret} < /dev/null 2>&1 | grep URL\n",
    "vcode = getpass.getpass()\n",
    "!echo {vcode} | google-drive-ocamlfuse -headless -id={creds.client_id} -secret={creds.client_secret}\n",
    "!sudo mkdir /content/drive1\n",
    "!google-drive-ocamlfuse /content/drive1"
   ]
  },
  {
   "cell_type": "code",
   "execution_count": null,
   "metadata": {
    "colab": {
     "base_uri": "https://localhost:8080/"
    },
    "id": "X_Nl484b9ilJ",
    "outputId": "a329796e-1944-464d-842e-19e90af5b25d"
   },
   "outputs": [
    {
     "name": "stdout",
     "output_type": "stream",
     "text": [
      "Available files in dataset in drive1:  ['ID00009637202177434476278', 'ID00019637202178323708467', 'ID00014637202177757139317', 'ID00007637202177411956430', 'ID00023637202179104603099', 'ID00010637202177584971671', 'ID00011637202177653955184', 'ID00015637202177877247924', 'ID00020637202178344345685', 'ID00012637202177665765362', 'ID00032637202181710233084', 'ID00026637202179561894768', 'ID00047637202184938901501', 'ID00042637202184406822975', 'ID00048637202185016727717', 'ID00025637202179541264076', 'ID00027637202179689871102', 'ID00035637202182204917484', 'ID00038637202182690843176', 'ID00030637202181211009029', 'ID00060637202187965290703', 'ID00067637202189903532242', 'ID00075637202198610425520', 'ID00062637202188654068490', 'ID00068637202190879923934', 'ID00072637202198161894406', 'ID00052637202186188008618', 'ID00061637202188184085559', 'ID00073637202198167792918', 'ID00051637202185848464638', 'ID00090637202204766623410', 'ID00078637202199415319443', 'ID00082637202201836229724', 'ID00094637202205333947361', 'ID00089637202204675567570', 'ID00093637202205278167493', 'ID00099637202206203080121', 'ID00086637202203494931510', 'ID00077637202199102000916', 'ID00076637202199015035026', 'ID00105637202208831864134', 'ID00102637202206574119190', 'ID00108637202209619669361', 'ID00109637202210454292264', 'ID00115637202211874187958', 'ID00104637202208063407045', 'ID00111637202210956877205', 'ID00119637202215426335765', 'ID00117637202212360228007', 'ID00110637202210673668310', 'ID00126637202218610655908', 'ID00122637202216437668965', 'ID00123637202217151272140', 'ID00125637202218590429387', 'ID00130637202220059448013', 'ID00124637202217596410344', 'ID00131637202220424084844', 'ID00128637202219474716089', 'ID00129637202219868188000', 'ID00127637202219096738943', 'ID00135637202224630271439', 'ID00161637202235731948764', 'ID00136637202224951350618', 'ID00133637202223847701934', 'ID00149637202232704462834', 'ID00138637202231603868088', 'ID00134637202223873059688', 'ID00132637202222178761324', 'ID00140637202231728595149', 'ID00139637202231703564336', 'ID00172637202238316925179', 'ID00180637202240177410333', 'ID00170637202238079193844', 'ID00183637202241995351650', 'ID00169637202238024117706', 'ID00173637202238329754031', 'ID00168637202237852027833', 'ID00167637202237397919352', 'ID00165637202237320314458']\n"
     ]
    }
   ],
   "source": [
    "# Number of folder having patient ID as folder name\n",
    "P2 = os.listdir('drive1/Colab Notebooks/train2')\n",
    "print('Available files in dataset in drive1: ', P2)"
   ]
  },
  {
   "cell_type": "markdown",
   "metadata": {
    "id": "Ldckl5Wu3jae"
   },
   "source": [
    "Reading csv file"
   ]
  },
  {
   "cell_type": "code",
   "execution_count": null,
   "metadata": {
    "id": "zRoRfdLAShGr"
   },
   "outputs": [],
   "source": [
    "train = pd.read_csv('drive/My Drive/Colab Notebooks/.csv') # reading the csv file "
   ]
  },
  {
   "cell_type": "code",
   "execution_count": null,
   "metadata": {
    "colab": {
     "base_uri": "https://localhost:8080/",
     "height": 419
    },
    "id": "5CVZAT0C6yPc",
    "outputId": "479093bc-0079-4caa-81d0-acbd802a29d6"
   },
   "outputs": [
    {
     "data": {
      "text/html": [
       "<div>\n",
       "<style scoped>\n",
       "    .dataframe tbody tr th:only-of-type {\n",
       "        vertical-align: middle;\n",
       "    }\n",
       "\n",
       "    .dataframe tbody tr th {\n",
       "        vertical-align: top;\n",
       "    }\n",
       "\n",
       "    .dataframe thead th {\n",
       "        text-align: right;\n",
       "    }\n",
       "</style>\n",
       "<table border=\"1\" class=\"dataframe\">\n",
       "  <thead>\n",
       "    <tr style=\"text-align: right;\">\n",
       "      <th></th>\n",
       "      <th>Patient</th>\n",
       "      <th>Weeks</th>\n",
       "      <th>FVC</th>\n",
       "      <th>Percent</th>\n",
       "      <th>Age</th>\n",
       "      <th>Sex</th>\n",
       "      <th>SmokingStatus</th>\n",
       "    </tr>\n",
       "  </thead>\n",
       "  <tbody>\n",
       "    <tr>\n",
       "      <th>0</th>\n",
       "      <td>ID00007637202177411956430</td>\n",
       "      <td>-4</td>\n",
       "      <td>2315</td>\n",
       "      <td>58.253649</td>\n",
       "      <td>79</td>\n",
       "      <td>Male</td>\n",
       "      <td>Ex-smoker</td>\n",
       "    </tr>\n",
       "    <tr>\n",
       "      <th>1</th>\n",
       "      <td>ID00007637202177411956430</td>\n",
       "      <td>5</td>\n",
       "      <td>2214</td>\n",
       "      <td>55.712129</td>\n",
       "      <td>79</td>\n",
       "      <td>Male</td>\n",
       "      <td>Ex-smoker</td>\n",
       "    </tr>\n",
       "    <tr>\n",
       "      <th>2</th>\n",
       "      <td>ID00007637202177411956430</td>\n",
       "      <td>7</td>\n",
       "      <td>2061</td>\n",
       "      <td>51.862104</td>\n",
       "      <td>79</td>\n",
       "      <td>Male</td>\n",
       "      <td>Ex-smoker</td>\n",
       "    </tr>\n",
       "    <tr>\n",
       "      <th>3</th>\n",
       "      <td>ID00007637202177411956430</td>\n",
       "      <td>9</td>\n",
       "      <td>2144</td>\n",
       "      <td>53.950679</td>\n",
       "      <td>79</td>\n",
       "      <td>Male</td>\n",
       "      <td>Ex-smoker</td>\n",
       "    </tr>\n",
       "    <tr>\n",
       "      <th>4</th>\n",
       "      <td>ID00007637202177411956430</td>\n",
       "      <td>11</td>\n",
       "      <td>2069</td>\n",
       "      <td>52.063412</td>\n",
       "      <td>79</td>\n",
       "      <td>Male</td>\n",
       "      <td>Ex-smoker</td>\n",
       "    </tr>\n",
       "    <tr>\n",
       "      <th>...</th>\n",
       "      <td>...</td>\n",
       "      <td>...</td>\n",
       "      <td>...</td>\n",
       "      <td>...</td>\n",
       "      <td>...</td>\n",
       "      <td>...</td>\n",
       "      <td>...</td>\n",
       "    </tr>\n",
       "    <tr>\n",
       "      <th>1544</th>\n",
       "      <td>ID00426637202313170790466</td>\n",
       "      <td>13</td>\n",
       "      <td>2712</td>\n",
       "      <td>66.594637</td>\n",
       "      <td>73</td>\n",
       "      <td>Male</td>\n",
       "      <td>Never smoked</td>\n",
       "    </tr>\n",
       "    <tr>\n",
       "      <th>1545</th>\n",
       "      <td>ID00426637202313170790466</td>\n",
       "      <td>19</td>\n",
       "      <td>2978</td>\n",
       "      <td>73.126412</td>\n",
       "      <td>73</td>\n",
       "      <td>Male</td>\n",
       "      <td>Never smoked</td>\n",
       "    </tr>\n",
       "    <tr>\n",
       "      <th>1546</th>\n",
       "      <td>ID00426637202313170790466</td>\n",
       "      <td>31</td>\n",
       "      <td>2908</td>\n",
       "      <td>71.407524</td>\n",
       "      <td>73</td>\n",
       "      <td>Male</td>\n",
       "      <td>Never smoked</td>\n",
       "    </tr>\n",
       "    <tr>\n",
       "      <th>1547</th>\n",
       "      <td>ID00426637202313170790466</td>\n",
       "      <td>43</td>\n",
       "      <td>2975</td>\n",
       "      <td>73.052745</td>\n",
       "      <td>73</td>\n",
       "      <td>Male</td>\n",
       "      <td>Never smoked</td>\n",
       "    </tr>\n",
       "    <tr>\n",
       "      <th>1548</th>\n",
       "      <td>ID00426637202313170790466</td>\n",
       "      <td>59</td>\n",
       "      <td>2774</td>\n",
       "      <td>68.117081</td>\n",
       "      <td>73</td>\n",
       "      <td>Male</td>\n",
       "      <td>Never smoked</td>\n",
       "    </tr>\n",
       "  </tbody>\n",
       "</table>\n",
       "<p>1549 rows × 7 columns</p>\n",
       "</div>"
      ],
      "text/plain": [
       "                        Patient  Weeks   FVC  ...  Age   Sex SmokingStatus\n",
       "0     ID00007637202177411956430     -4  2315  ...   79  Male     Ex-smoker\n",
       "1     ID00007637202177411956430      5  2214  ...   79  Male     Ex-smoker\n",
       "2     ID00007637202177411956430      7  2061  ...   79  Male     Ex-smoker\n",
       "3     ID00007637202177411956430      9  2144  ...   79  Male     Ex-smoker\n",
       "4     ID00007637202177411956430     11  2069  ...   79  Male     Ex-smoker\n",
       "...                         ...    ...   ...  ...  ...   ...           ...\n",
       "1544  ID00426637202313170790466     13  2712  ...   73  Male  Never smoked\n",
       "1545  ID00426637202313170790466     19  2978  ...   73  Male  Never smoked\n",
       "1546  ID00426637202313170790466     31  2908  ...   73  Male  Never smoked\n",
       "1547  ID00426637202313170790466     43  2975  ...   73  Male  Never smoked\n",
       "1548  ID00426637202313170790466     59  2774  ...   73  Male  Never smoked\n",
       "\n",
       "[1549 rows x 7 columns]"
      ]
     },
     "execution_count": 9,
     "metadata": {
      "tags": []
     },
     "output_type": "execute_result"
    }
   ],
   "source": [
    "train"
   ]
  },
  {
   "cell_type": "markdown",
   "metadata": {
    "id": "xd7MEdp238f-"
   },
   "source": [
    "## Assigning numerical value to variables"
   ]
  },
  {
   "cell_type": "markdown",
   "metadata": {
    "id": "hjmQAeuIV_iP"
   },
   "source": [
    "Reference code from https://www.kaggle.com/miklgr500/linear-decay-based-on-resnet-cnn/execution\n",
    "\n",
    "https://www.kaggle.com/purnima29/final-model"
   ]
  },
  {
   "cell_type": "code",
   "execution_count": null,
   "metadata": {
    "colab": {
     "base_uri": "https://localhost:8080/",
     "height": 103,
     "referenced_widgets": [
      "8f00a462dd2d4898bd07c264de50a80e",
      "3ce0108fb35542cda3bc3af07048323b",
      "0e51a4d37a2f48ac82570c71c16aa2ec",
      "c5ecb6f5d23243d0a03b6596c8f109bb",
      "75f2f9f8cd6d4d64bccaa61ae6253418",
      "defb6b2ec1ff4463b17216bd72439aab",
      "0350c23b6c424084a933fbcc6c0ff174",
      "c6e250d9bc20461eac0991f5caa3248a",
      "78ff9e4c70c64dbfb1aba0b73f970dfe",
      "37428e79a33640a4ba65fa7f48dfae6c",
      "1d309a1ae11b45dfbae19070a85b993d"
     ]
    },
    "id": "89vm6bkEUBhV",
    "outputId": "aca67613-bc6b-48dd-c4ed-f8eacb29e6f9"
   },
   "outputs": [
    {
     "data": {
      "application/vnd.jupyter.widget-view+json": {
       "model_id": "8f00a462dd2d4898bd07c264de50a80e",
       "version_major": 2,
       "version_minor": 0
      },
      "text/plain": [
       "0it [00:00, ?it/s]"
      ]
     },
     "metadata": {
      "tags": []
     },
     "output_type": "display_data"
    },
    {
     "name": "stderr",
     "output_type": "stream",
     "text": [
      "/usr/local/lib/python3.7/dist-packages/ipykernel_launcher.py:28: FutureWarning: `rcond` parameter will change to the default of machine precision times ``max(M, N)`` where M and N are the input matrix dimensions.\n",
      "To use the future default and silence this warning we advise to pass `rcond=None`, to keep using the old, explicitly pass `rcond=-1`.\n"
     ]
    }
   ],
   "source": [
    "# Below code will gives an array respectively to each patient having age, sex, smoking status.\n",
    "\n",
    "def get_tab(df):\n",
    "    vector = [(df.Age.values[0] - 30) / 30] # Age to the smaller numeric value \n",
    "    \n",
    "    if df.Sex.values[0] == 'male':         # Set male zero and female to one.\n",
    "       vector.append(0)\n",
    "    else:\n",
    "       vector.append(1)\n",
    "    \n",
    "    if df.SmokingStatus.values[0] == 'Never smoked':        # set 'Never smoked' to 0,0 array.\n",
    "        vector.extend([0,0])\n",
    "    elif df.SmokingStatus.values[0] == 'Ex-smoker':         # set 'Ex-smoker' to 1,1 array.\n",
    "        vector.extend([1,1])\n",
    "    elif df.SmokingStatus.values[0] == 'Currently smokes':  # set  'Currently smokes' to 1,0 array.\n",
    "        vector.extend([0,1])\n",
    "    else:\n",
    "        vector.extend([1,0])\n",
    "    return np.array(vector) \n",
    "\n",
    "\n",
    "\n",
    "A = {}                                               # Stores slope value for each of the patient\n",
    "TAB = {}                                             # Stores training data respectively to each patient\n",
    "P = []                                               # Stores all unique patient id's \n",
    "for i, p in tqdm(enumerate(train.Patient.unique())): # Running the loop on the basis of unique patient id's\n",
    "    sub = train.loc[train.Patient == p, :]            \n",
    "    fvc = sub.FVC.values                             # Taking the FVC value of the patient\n",
    "    weeks = sub.Weeks.values\n",
    "    c = np.vstack([weeks, np.ones(len(weeks))]).T     \n",
    "    a, b = np.linalg.lstsq(c, fvc)[0]                # Return the least-squares solution to week and fvc-matrix equation\n",
    "                                                    #https://numpy.org/doc/stable/reference/generated/numpy.linalg.lstsq.html\n",
    "   \n",
    "    A[p] = a\n",
    "    TAB[p] = get_tab(sub)\n",
    "    P.append(p)\n"
   ]
  },
  {
   "cell_type": "markdown",
   "metadata": {
    "id": "Dva8nyUZ6Jdv"
   },
   "source": [
    "# CNN for prediction\n",
    "\n"
   ]
  },
  {
   "cell_type": "code",
   "execution_count": null,
   "metadata": {
    "id": "XKJGgnjpVRvq"
   },
   "outputs": [],
   "source": [
    "\n",
    "def get_img(path):\n",
    "    d = pydicom.dcmread(path) \n",
    "        \n",
    "    #return cv2.resize(d.pixel_array / 2**11, (512, 512)) # https://www.geeksforgeeks.org/image-resizing-using-opencv-python/\n",
    "    return cv2.resize(d.pixel_array / 2**11, (380, 380)) "
   ]
  },
  {
   "cell_type": "markdown",
   "metadata": {
    "id": "WrmP6scm9btA"
   },
   "source": [
    "### IGenerator "
   ]
  },
  {
   "cell_type": "code",
   "execution_count": null,
   "metadata": {
    "id": "oQwbC68y7MEx"
   },
   "outputs": [],
   "source": [
    "class IGenerator(Sequence):\n",
    "    \n",
    "       '''\n",
    "       This is the generator class, which generates an input of batch size 8 i.e 8 patient's 6 dicom image,\n",
    "       and features from tabular data is generated. As output from his generator x and y contains pixel_data \n",
    "       of a dicom image, tab contains patient's meta information, and 'a' is the coefficient respective patient.\n",
    "       '''\n",
    "    BAD_ID = ['ID00011637202177653955184', 'ID00052637202186188008618'] \n",
    "    def __init__(self, keys, a, tab, batch_size=8):\n",
    "        self.keys = [k for k in keys if k not in self.BAD_ID]      # 'keys' including all the patient ID except two bad IDs \n",
    "        self.a = a\n",
    "        self.tab = tab\n",
    "        self.batch_size = batch_size\n",
    "        \n",
    "        self.train_data = {}                                       # Building train_data dictionary for pixel data\n",
    "        self.train_data1 = {}\n",
    "        self.train_data2= {}\n",
    "\n",
    "        for p in P:\n",
    "          # High volume of data is stored in two division (drive1 & drive), so code will fetch the ID from either drives \n",
    "          if os.path.isdir('drive1/Colab Notebooks/train2/' + p)== True:\n",
    "            self.train_data1[p] = os.listdir(f'drive1/Colab Notebooks/train2/{p}/'). \n",
    "          else:\n",
    "            self.train_data2[p] = os.listdir(f'drive/My Drive/Colab Notebooks/train1/{p}/')\n",
    "\n",
    "        self.train_data = {**self.train_data1 , **self.train_data2}          # combining both dictionary\n",
    "                      \n",
    "    def __len__(self):\n",
    "        return 1000\n",
    "    \n",
    "    def __getitem__(self, idx):\n",
    "        x, y, z, w, u, v = [], [], [], [], [], []                  # Creating empty list for six images\n",
    "        a, tab = [], [] \n",
    "        keys = np.random.choice(self.keys, size = self.batch_size)\n",
    "        for k in keys:\n",
    "            try:\n",
    "                # creating random number for selecting random DCM images in respective patients ID \n",
    "                i = np.random.choice(self.train_data[k], size=1)[0]\n",
    "                j = np.random.choice(self.train_data[k], size=1)[0]\n",
    "                l = np.random.choice(self.train_data[k], size=1)[0]\n",
    "                m = np.random.choice(self.train_data[k], size=1)[0]\n",
    "                n = np.random.choice(self.train_data[k], size=1)[0]\n",
    "                o = np.random.choice(self.train_data[k], size=1)[0]\n",
    "                # for selecting DCM image present in drive1 or drive\n",
    "                if os.path.isdir('drive1/Colab Notebooks/train2/' + k)== True:\n",
    "                  img1 = get_img(f'drive1/Colab Notebooks/train2/{k}/{i}')\n",
    "                  x.append(img1)\n",
    "                else:\n",
    "                  img2 = get_img(f'drive/My Drive/Colab Notebooks/train1/{k}/{i}')\n",
    "                  x.append(img2)\n",
    "                  \n",
    "                if os.path.isdir('drive1/Colab Notebooks/train2/' + k)== True:\n",
    "                  img3 = get_img(f'drive1/Colab Notebooks/train2/{k}/{j}')\n",
    "                  y.append(img3)\n",
    "                else:\n",
    "                  img4 = get_img(f'drive/My Drive/Colab Notebooks/train1/{k}/{j}')\n",
    "                  y.append(img4)\n",
    "\n",
    "                if os.path.isdir('drive1/Colab Notebooks/train2/' + k)== True:\n",
    "                  img5 = get_img(f'drive1/Colab Notebooks/train2/{k}/{l}')\n",
    "                  z.append(img5)\n",
    "                else:\n",
    "                  img6 = get_img(f'drive/My Drive/Colab Notebooks/train1/{k}/{l}')\n",
    "                  z.append(img6)\n",
    "\n",
    "                if os.path.isdir('drive1/Colab Notebooks/train2/' + k)== True:\n",
    "                  img7 = get_img(f'drive1/Colab Notebooks/train2/{k}/{m}')\n",
    "                  w.append(img7)\n",
    "                else:\n",
    "                  img8 = get_img(f'drive/My Drive/Colab Notebooks/train1/{k}/{m}')\n",
    "                  w.append(img8)\n",
    "\n",
    "                if os.path.isdir('drive1/Colab Notebooks/train2/' + k)== True:\n",
    "                  img9 = get_img(f'drive1/Colab Notebooks/train2/{k}/{n}')\n",
    "                  u.append(img9)\n",
    "                else:\n",
    "                  img10 = get_img(f'drive/My Drive/Colab Notebooks/train1/{k}/{n}')\n",
    "                  u.append(img10)\n",
    "\n",
    "                if os.path.isdir('drive1/Colab Notebooks/train2/' + k)== True:\n",
    "                  img11 = get_img(f'drive1/Colab Notebooks/train2/{k}/{o}')\n",
    "                  v.append(img11)\n",
    "                else:\n",
    "                  img12 = get_img(f'drive/My Drive/Colab Notebooks/train1/{k}/{o}')\n",
    "                  v.append(img12)\n",
    "\n",
    "                a.append(self.a[k])\n",
    "                tab.append(self.tab[k])\n",
    "            except:\n",
    "                print(k, i)\n",
    "        # For dimension matching respected images converted to numpy array followed by expanding it.\n",
    "        x,y,z,w,u,v,a,tab = np.array(x), np.array(y), np.array(z), np.array(w), \n",
    "                            np.array(u), np.array(v), np.array(a), np.array(tab)\n",
    "        \n",
    "        x = np.expand_dims(x, axis=-1)\n",
    "        y = np.expand_dims(y, axis=-1)\n",
    "        z = np.expand_dims(z, axis=-1)\n",
    "        w = np.expand_dims(w, axis=-1)\n",
    "        u = np.expand_dims(u, axis=-1)\n",
    "        v = np.expand_dims(v, axis=-1)\n",
    "        return [x, y, z, w, u, v, tab] , a"
   ]
  },
  {
   "cell_type": "markdown",
   "metadata": {
    "id": "LQZCX2R4sAPF"
   },
   "source": [
    "## EfficientNetB4"
   ]
  },
  {
   "cell_type": "markdown",
   "metadata": {
    "id": "QS7Vnkv0W1po"
   },
   "source": [
    "## Pass six images\n"
   ]
  },
  {
   "cell_type": "code",
   "execution_count": null,
   "metadata": {
    "colab": {
     "base_uri": "https://localhost:8080/"
    },
    "id": "yDt50mD3pXEr",
    "outputId": "c465544f-cc14-4bfa-8837-8cfa97a4cb39"
   },
   "outputs": [
    {
     "name": "stdout",
     "output_type": "stream",
     "text": [
      "Downloading data from https://storage.googleapis.com/keras-applications/efficientnetb4_notop.h5\n",
      "71688192/71686520 [==============================] - 0s 0us/step\n"
     ]
    }
   ],
   "source": [
    "# https://towardsdatascience.com/complete-architectural-details-of-all-efficientnet-models-5fd5b736142\n",
    "#https://keras.io/examples/vision/image_classification_efficientnet_fine_tuning/\n",
    "\n",
    "# Implementing EfficientNetB4 architecture, with out the top using imagenet as weight.\n",
    "effnet_B4 = EfficientNetB4(include_top=False, weights=\"imagenet\") \n",
    "\n",
    "# Freeze the pretrained weights and train only the top layers\n",
    "for layer in effnet_B4.layers[:]:\n",
    "    layer.trainable = False"
   ]
  },
  {
   "cell_type": "code",
   "execution_count": null,
   "metadata": {
    "colab": {
     "base_uri": "https://localhost:8080/"
    },
    "id": "hQfI-efpfZoP",
    "outputId": "43638f97-3022-4786-bcba-381c3995e67e"
   },
   "outputs": [
    {
     "name": "stdout",
     "output_type": "stream",
     "text": [
      "<tensorflow.python.keras.engine.input_layer.InputLayer object at 0x7f9b43bb8c10> False\n",
      "<tensorflow.python.keras.layers.preprocessing.image_preprocessing.Rescaling object at 0x7f9b43b83fd0> False\n",
      "<tensorflow.python.keras.layers.preprocessing.normalization.Normalization object at 0x7f9b43b50950> False\n",
      "<tensorflow.python.keras.layers.convolutional.ZeroPadding2D object at 0x7f9b43b2dfd0> False\n",
      "<tensorflow.python.keras.layers.convolutional.Conv2D object at 0x7f9b43a94150> False\n",
      "<tensorflow.python.keras.layers.normalization_v2.BatchNormalization object at 0x7f9b300a08d0> False\n",
      "<tensorflow.python.keras.layers.core.Activation object at 0x7f9b43ab8190> False\n",
      "<tensorflow.python.keras.layers.convolutional.DepthwiseConv2D object at 0x7f9b30072610> False\n",
      "<tensorflow.python.keras.layers.normalization_v2.BatchNormalization object at 0x7f9b3005fe10> False\n",
      "<tensorflow.python.keras.layers.core.Activation object at 0x7f9b3008e290> False\n",
      "<tensorflow.python.keras.layers.pooling.GlobalAveragePooling2D object at 0x7f9b30056f90> False\n",
      "<tensorflow.python.keras.layers.core.Reshape object at 0x7f9b43b50310> False\n",
      "<tensorflow.python.keras.layers.convolutional.Conv2D object at 0x7f9b43ab8290> False\n",
      "<tensorflow.python.keras.layers.convolutional.Conv2D object at 0x7f9b3000e7d0> False\n",
      "<tensorflow.python.keras.layers.merge.Multiply object at 0x7f9b3001d090> False\n",
      "<tensorflow.python.keras.layers.convolutional.Conv2D object at 0x7f9b30021710> False\n",
      "<tensorflow.python.keras.layers.normalization_v2.BatchNormalization object at 0x7f9b30028150> False\n",
      "<tensorflow.python.keras.layers.convolutional.DepthwiseConv2D object at 0x7f9b3002dc50> False\n",
      "<tensorflow.python.keras.layers.normalization_v2.BatchNormalization object at 0x7f9b30031110> False\n",
      "<tensorflow.python.keras.layers.core.Activation object at 0x7f9b30028f10> False\n",
      "<tensorflow.python.keras.layers.pooling.GlobalAveragePooling2D object at 0x7f9b3003a0d0> False\n",
      "<tensorflow.python.keras.layers.core.Reshape object at 0x7f9af81ad390> False\n",
      "<tensorflow.python.keras.layers.convolutional.Conv2D object at 0x7f9b30032490> False\n",
      "<tensorflow.python.keras.layers.convolutional.Conv2D object at 0x7f9b30028dd0> False\n",
      "<tensorflow.python.keras.layers.merge.Multiply object at 0x7f9af81bcb10> False\n",
      "<tensorflow.python.keras.layers.convolutional.Conv2D object at 0x7f9af81bf690> False\n",
      "<tensorflow.python.keras.layers.normalization_v2.BatchNormalization object at 0x7f9af81c3690> False\n",
      "<tensorflow.python.keras.layers.core.Dropout object at 0x7f9af81ce790> False\n",
      "<tensorflow.python.keras.layers.merge.Add object at 0x7f9af81d8890> False\n",
      "<tensorflow.python.keras.layers.convolutional.Conv2D object at 0x7f9af81d8c90> False\n",
      "<tensorflow.python.keras.layers.normalization_v2.BatchNormalization object at 0x7f9af81cbe90> False\n",
      "<tensorflow.python.keras.layers.core.Activation object at 0x7f9af81ce510> False\n",
      "<tensorflow.python.keras.layers.convolutional.ZeroPadding2D object at 0x7f9af8167c50> False\n",
      "<tensorflow.python.keras.layers.convolutional.DepthwiseConv2D object at 0x7f9af8173dd0> False\n",
      "<tensorflow.python.keras.layers.normalization_v2.BatchNormalization object at 0x7f9af8173fd0> False\n",
      "<tensorflow.python.keras.layers.core.Activation object at 0x7f9af81793d0> False\n",
      "<tensorflow.python.keras.layers.pooling.GlobalAveragePooling2D object at 0x7f9af817e490> False\n",
      "<tensorflow.python.keras.layers.core.Reshape object at 0x7f9af8189ad0> False\n",
      "<tensorflow.python.keras.layers.convolutional.Conv2D object at 0x7f9af818f510> False\n",
      "<tensorflow.python.keras.layers.convolutional.Conv2D object at 0x7f9af818f910> False\n",
      "<tensorflow.python.keras.layers.merge.Multiply object at 0x7f9af81a0390> False\n",
      "<tensorflow.python.keras.layers.convolutional.Conv2D object at 0x7f9af81a2a10> False\n",
      "<tensorflow.python.keras.layers.normalization_v2.BatchNormalization object at 0x7f9af812c4d0> False\n",
      "<tensorflow.python.keras.layers.convolutional.Conv2D object at 0x7f9af81a0610> False\n",
      "<tensorflow.python.keras.layers.normalization_v2.BatchNormalization object at 0x7f9af8132b50> False\n",
      "<tensorflow.python.keras.layers.core.Activation object at 0x7f9af8140490> False\n",
      "<tensorflow.python.keras.layers.convolutional.DepthwiseConv2D object at 0x7f9af813a110> False\n",
      "<tensorflow.python.keras.layers.normalization_v2.BatchNormalization object at 0x7f9af8184510> False\n",
      "<tensorflow.python.keras.layers.core.Activation object at 0x7f9af81d2b90> False\n",
      "<tensorflow.python.keras.layers.pooling.GlobalAveragePooling2D object at 0x7f9af81c3f90> False\n",
      "<tensorflow.python.keras.layers.core.Reshape object at 0x7f9b30032450> False\n",
      "<tensorflow.python.keras.layers.convolutional.Conv2D object at 0x7f9b30031910> False\n",
      "<tensorflow.python.keras.layers.convolutional.Conv2D object at 0x7f9b43a8cc50> False\n",
      "<tensorflow.python.keras.layers.merge.Multiply object at 0x7f9b3002d250> False\n",
      "<tensorflow.python.keras.layers.convolutional.Conv2D object at 0x7f9af81486d0> False\n",
      "<tensorflow.python.keras.layers.normalization_v2.BatchNormalization object at 0x7f9af814e0d0> False\n",
      "<tensorflow.python.keras.layers.core.Dropout object at 0x7f9b3008e050> False\n",
      "<tensorflow.python.keras.layers.merge.Add object at 0x7f9af8151110> False\n",
      "<tensorflow.python.keras.layers.convolutional.Conv2D object at 0x7f9af8154990> False\n",
      "<tensorflow.python.keras.layers.normalization_v2.BatchNormalization object at 0x7f9af8160310> False\n",
      "<tensorflow.python.keras.layers.core.Activation object at 0x7f9af815b150> False\n",
      "<tensorflow.python.keras.layers.convolutional.DepthwiseConv2D object at 0x7f9af81512d0> False\n",
      "<tensorflow.python.keras.layers.normalization_v2.BatchNormalization object at 0x7f9af80ede50> False\n",
      "<tensorflow.python.keras.layers.core.Activation object at 0x7f9af8165d10> False\n",
      "<tensorflow.python.keras.layers.pooling.GlobalAveragePooling2D object at 0x7f9af80f18d0> False\n",
      "<tensorflow.python.keras.layers.core.Reshape object at 0x7f9af8100190> False\n",
      "<tensorflow.python.keras.layers.convolutional.Conv2D object at 0x7f9af8100d90> False\n",
      "<tensorflow.python.keras.layers.convolutional.Conv2D object at 0x7f9af81655d0> False\n",
      "<tensorflow.python.keras.layers.merge.Multiply object at 0x7f9af81137d0> False\n",
      "<tensorflow.python.keras.layers.convolutional.Conv2D object at 0x7f9af810ddd0> False\n",
      "<tensorflow.python.keras.layers.normalization_v2.BatchNormalization object at 0x7f9af811b790> False\n",
      "<tensorflow.python.keras.layers.core.Dropout object at 0x7f9af811b150> False\n",
      "<tensorflow.python.keras.layers.merge.Add object at 0x7f9af80a9590> False\n",
      "<tensorflow.python.keras.layers.convolutional.Conv2D object at 0x7f9af80adf10> False\n",
      "<tensorflow.python.keras.layers.normalization_v2.BatchNormalization object at 0x7f9af8126a10> False\n",
      "<tensorflow.python.keras.layers.core.Activation object at 0x7f9af80b5490> False\n",
      "<tensorflow.python.keras.layers.convolutional.DepthwiseConv2D object at 0x7f9af80bd7d0> False\n",
      "<tensorflow.python.keras.layers.normalization_v2.BatchNormalization object at 0x7f9af80bdb50> False\n",
      "<tensorflow.python.keras.layers.core.Activation object at 0x7f9af80c1110> False\n",
      "<tensorflow.python.keras.layers.pooling.GlobalAveragePooling2D object at 0x7f9af80ca990> False\n",
      "<tensorflow.python.keras.layers.core.Reshape object at 0x7f9af80d4b50> False\n",
      "<tensorflow.python.keras.layers.convolutional.Conv2D object at 0x7f9af80cefd0> False\n",
      "<tensorflow.python.keras.layers.convolutional.Conv2D object at 0x7f9af80c9050> False\n",
      "<tensorflow.python.keras.layers.merge.Multiply object at 0x7f9af80e6c50> False\n",
      "<tensorflow.python.keras.layers.convolutional.Conv2D object at 0x7f9af81263d0> False\n",
      "<tensorflow.python.keras.layers.normalization_v2.BatchNormalization object at 0x7f9af8071b50> False\n",
      "<tensorflow.python.keras.layers.core.Dropout object at 0x7f9af807a690> False\n",
      "<tensorflow.python.keras.layers.merge.Add object at 0x7f9af807e8d0> False\n",
      "<tensorflow.python.keras.layers.convolutional.Conv2D object at 0x7f9af8071210> False\n",
      "<tensorflow.python.keras.layers.normalization_v2.BatchNormalization object at 0x7f9af80a9510> False\n",
      "<tensorflow.python.keras.layers.core.Activation object at 0x7f9af810dc90> False\n",
      "<tensorflow.python.keras.layers.convolutional.ZeroPadding2D object at 0x7f9af80fc6d0> False\n",
      "<tensorflow.python.keras.layers.convolutional.DepthwiseConv2D object at 0x7f9af8165b50> False\n",
      "<tensorflow.python.keras.layers.normalization_v2.BatchNormalization object at 0x7f9af81aded0> False\n",
      "<tensorflow.python.keras.layers.core.Activation object at 0x7f9af8083b10> False\n",
      "<tensorflow.python.keras.layers.pooling.GlobalAveragePooling2D object at 0x7f9af8184310> False\n",
      "<tensorflow.python.keras.layers.core.Reshape object at 0x7f9af808ae10> False\n",
      "<tensorflow.python.keras.layers.convolutional.Conv2D object at 0x7f9af808d850> False\n",
      "<tensorflow.python.keras.layers.convolutional.Conv2D object at 0x7f9af8093390> False\n",
      "<tensorflow.python.keras.layers.merge.Multiply object at 0x7f9af8096690> False\n",
      "<tensorflow.python.keras.layers.convolutional.Conv2D object at 0x7f9af8099d90> False\n",
      "<tensorflow.python.keras.layers.normalization_v2.BatchNormalization object at 0x7f9af80a5850> False\n",
      "<tensorflow.python.keras.layers.convolutional.Conv2D object at 0x7f9af809f5d0> False\n",
      "<tensorflow.python.keras.layers.normalization_v2.BatchNormalization object at 0x7f9af802add0> False\n",
      "<tensorflow.python.keras.layers.core.Activation object at 0x7f9af802ad10> False\n",
      "<tensorflow.python.keras.layers.convolutional.DepthwiseConv2D object at 0x7f9af8096a10> False\n",
      "<tensorflow.python.keras.layers.normalization_v2.BatchNormalization object at 0x7f9af8044850> False\n",
      "<tensorflow.python.keras.layers.core.Activation object at 0x7f9af804c350> False\n",
      "<tensorflow.python.keras.layers.pooling.GlobalAveragePooling2D object at 0x7f9af804ca10> False\n",
      "<tensorflow.python.keras.layers.core.Reshape object at 0x7f9af8056910> False\n",
      "<tensorflow.python.keras.layers.convolutional.Conv2D object at 0x7f9af805c350> False\n",
      "<tensorflow.python.keras.layers.convolutional.Conv2D object at 0x7f9af8061d90> False\n",
      "<tensorflow.python.keras.layers.merge.Multiply object at 0x7f9ae77c2190> False\n",
      "<tensorflow.python.keras.layers.convolutional.Conv2D object at 0x7f9ae77c3890> False\n",
      "<tensorflow.python.keras.layers.normalization_v2.BatchNormalization object at 0x7f9ae77cd350> False\n",
      "<tensorflow.python.keras.layers.core.Dropout object at 0x7f9ae77c3490> False\n",
      "<tensorflow.python.keras.layers.merge.Add object at 0x7f9ae77d23d0> False\n",
      "<tensorflow.python.keras.layers.convolutional.Conv2D object at 0x7f9ae77dc050> False\n",
      "<tensorflow.python.keras.layers.normalization_v2.BatchNormalization object at 0x7f9ae77e3990> False\n",
      "<tensorflow.python.keras.layers.core.Activation object at 0x7f9ae77d2d50> False\n",
      "<tensorflow.python.keras.layers.convolutional.DepthwiseConv2D object at 0x7f9ae77e9b10> False\n",
      "<tensorflow.python.keras.layers.normalization_v2.BatchNormalization object at 0x7f9ae77f2d50> False\n",
      "<tensorflow.python.keras.layers.core.Activation object at 0x7f9ae77d7650> False\n",
      "<tensorflow.python.keras.layers.pooling.GlobalAveragePooling2D object at 0x7f9ae7780410> False\n",
      "<tensorflow.python.keras.layers.core.Reshape object at 0x7f9ae778be90> False\n",
      "<tensorflow.python.keras.layers.convolutional.Conv2D object at 0x7f9ae7786d10> False\n",
      "<tensorflow.python.keras.layers.convolutional.Conv2D object at 0x7f9ae7797e90> False\n",
      "<tensorflow.python.keras.layers.merge.Multiply object at 0x7f9ae77a57d0> False\n",
      "<tensorflow.python.keras.layers.convolutional.Conv2D object at 0x7f9ae7796e10> False\n",
      "<tensorflow.python.keras.layers.normalization_v2.BatchNormalization object at 0x7f9ae7797f50> False\n",
      "<tensorflow.python.keras.layers.core.Dropout object at 0x7f9ae77f2b90> False\n",
      "<tensorflow.python.keras.layers.merge.Add object at 0x7f9ae77d20d0> False\n",
      "<tensorflow.python.keras.layers.convolutional.Conv2D object at 0x7f9b43a8ca10> False\n",
      "<tensorflow.python.keras.layers.normalization_v2.BatchNormalization object at 0x7f9b30056c90> False\n",
      "<tensorflow.python.keras.layers.core.Activation object at 0x7f9af81ce9d0> False\n",
      "<tensorflow.python.keras.layers.convolutional.DepthwiseConv2D object at 0x7f9af8179610> False\n",
      "<tensorflow.python.keras.layers.normalization_v2.BatchNormalization object at 0x7f9b30031d50> False\n",
      "<tensorflow.python.keras.layers.core.Activation object at 0x7f9af80ed6d0> False\n",
      "<tensorflow.python.keras.layers.pooling.GlobalAveragePooling2D object at 0x7f9af80c9c90> False\n",
      "<tensorflow.python.keras.layers.core.Reshape object at 0x7f9af805ce10> False\n",
      "<tensorflow.python.keras.layers.convolutional.Conv2D object at 0x7f9ae77d2890> False\n",
      "<tensorflow.python.keras.layers.convolutional.Conv2D object at 0x7f9ae77e3fd0> False\n",
      "<tensorflow.python.keras.layers.merge.Multiply object at 0x7f9ae77e76d0> False\n",
      "<tensorflow.python.keras.layers.convolutional.Conv2D object at 0x7f9ae7797490> False\n",
      "<tensorflow.python.keras.layers.normalization_v2.BatchNormalization object at 0x7f9af807ef90> False\n",
      "<tensorflow.python.keras.layers.core.Dropout object at 0x7f9ae778b290> False\n",
      "<tensorflow.python.keras.layers.merge.Add object at 0x7f9af81372d0> False\n",
      "<tensorflow.python.keras.layers.convolutional.Conv2D object at 0x7f9af8031f50> False\n",
      "<tensorflow.python.keras.layers.normalization_v2.BatchNormalization object at 0x7f9af808a290> False\n",
      "<tensorflow.python.keras.layers.core.Activation object at 0x7f9af8031d90> False\n",
      "<tensorflow.python.keras.layers.convolutional.ZeroPadding2D object at 0x7f9af8137d10> False\n",
      "<tensorflow.python.keras.layers.convolutional.DepthwiseConv2D object at 0x7f9af81606d0> False\n",
      "<tensorflow.python.keras.layers.normalization_v2.BatchNormalization object at 0x7f9af80c0450> False\n",
      "<tensorflow.python.keras.layers.core.Activation object at 0x7f9af8160590> False\n",
      "<tensorflow.python.keras.layers.pooling.GlobalAveragePooling2D object at 0x7f9af815b3d0> False\n",
      "<tensorflow.python.keras.layers.core.Reshape object at 0x7f9ae77a93d0> False\n",
      "<tensorflow.python.keras.layers.convolutional.Conv2D object at 0x7f9af80fc550> False\n",
      "<tensorflow.python.keras.layers.convolutional.Conv2D object at 0x7f9ae7765690> False\n",
      "<tensorflow.python.keras.layers.merge.Multiply object at 0x7f9ae7774510> False\n",
      "<tensorflow.python.keras.layers.convolutional.Conv2D object at 0x7f9ae7765a50> False\n",
      "<tensorflow.python.keras.layers.normalization_v2.BatchNormalization object at 0x7f9ae76fd450> False\n",
      "<tensorflow.python.keras.layers.convolutional.Conv2D object at 0x7f9ae7702810> False\n",
      "<tensorflow.python.keras.layers.normalization_v2.BatchNormalization object at 0x7f9ae7709090> False\n",
      "<tensorflow.python.keras.layers.core.Activation object at 0x7f9ae7712310> False\n",
      "<tensorflow.python.keras.layers.convolutional.DepthwiseConv2D object at 0x7f9ae77201d0> False\n",
      "<tensorflow.python.keras.layers.normalization_v2.BatchNormalization object at 0x7f9ae7716d50> False\n",
      "<tensorflow.python.keras.layers.core.Activation object at 0x7f9ae7727410> False\n",
      "<tensorflow.python.keras.layers.pooling.GlobalAveragePooling2D object at 0x7f9ae7727b90> False\n",
      "<tensorflow.python.keras.layers.core.Reshape object at 0x7f9ae7728950> False\n",
      "<tensorflow.python.keras.layers.convolutional.Conv2D object at 0x7f9ae772de50> False\n",
      "<tensorflow.python.keras.layers.convolutional.Conv2D object at 0x7f9ae7739050> False\n",
      "<tensorflow.python.keras.layers.merge.Multiply object at 0x7f9ae76c4b10> False\n",
      "<tensorflow.python.keras.layers.convolutional.Conv2D object at 0x7f9ae7712cd0> False\n",
      "<tensorflow.python.keras.layers.normalization_v2.BatchNormalization object at 0x7f9ae7709710> False\n",
      "<tensorflow.python.keras.layers.core.Dropout object at 0x7f9ae7774850> False\n",
      "<tensorflow.python.keras.layers.merge.Add object at 0x7f9b30042850> False\n",
      "<tensorflow.python.keras.layers.convolutional.Conv2D object at 0x7f9ae7702890> False\n",
      "<tensorflow.python.keras.layers.normalization_v2.BatchNormalization object at 0x7f9af811bf90> False\n",
      "<tensorflow.python.keras.layers.core.Activation object at 0x7f9ae76c7990> False\n",
      "<tensorflow.python.keras.layers.convolutional.DepthwiseConv2D object at 0x7f9b300412d0> False\n",
      "<tensorflow.python.keras.layers.normalization_v2.BatchNormalization object at 0x7f9ae7765510> False\n",
      "<tensorflow.python.keras.layers.core.Activation object at 0x7f9ae76d2150> False\n",
      "<tensorflow.python.keras.layers.pooling.GlobalAveragePooling2D object at 0x7f9ae76d27d0> False\n",
      "<tensorflow.python.keras.layers.core.Reshape object at 0x7f9ae76dd690> False\n",
      "<tensorflow.python.keras.layers.convolutional.Conv2D object at 0x7f9ae76e3290> False\n",
      "<tensorflow.python.keras.layers.convolutional.Conv2D object at 0x7f9ae76e8bd0> False\n",
      "<tensorflow.python.keras.layers.merge.Multiply object at 0x7f9ae76ec410> False\n",
      "<tensorflow.python.keras.layers.convolutional.Conv2D object at 0x7f9ae76f6610> False\n",
      "<tensorflow.python.keras.layers.normalization_v2.BatchNormalization object at 0x7f9ae767e0d0> False\n",
      "<tensorflow.python.keras.layers.core.Dropout object at 0x7f9ae76f3350> False\n",
      "<tensorflow.python.keras.layers.merge.Add object at 0x7f9ae7683250> False\n",
      "<tensorflow.python.keras.layers.convolutional.Conv2D object at 0x7f9ae76900d0> False\n",
      "<tensorflow.python.keras.layers.normalization_v2.BatchNormalization object at 0x7f9ae7694710> False\n",
      "<tensorflow.python.keras.layers.core.Activation object at 0x7f9ae76839d0> False\n",
      "<tensorflow.python.keras.layers.convolutional.DepthwiseConv2D object at 0x7f9ae76f68d0> False\n",
      "<tensorflow.python.keras.layers.normalization_v2.BatchNormalization object at 0x7f9ae76a0ad0> False\n",
      "<tensorflow.python.keras.layers.core.Activation object at 0x7f9ae7698e10> False\n",
      "<tensorflow.python.keras.layers.pooling.GlobalAveragePooling2D object at 0x7f9ae76a6790> False\n",
      "<tensorflow.python.keras.layers.core.Reshape object at 0x7f9ae76b7590> False\n",
      "<tensorflow.python.keras.layers.convolutional.Conv2D object at 0x7f9ae76b7a10> False\n",
      "<tensorflow.python.keras.layers.convolutional.Conv2D object at 0x7f9ae763da50> False\n",
      "<tensorflow.python.keras.layers.merge.Multiply object at 0x7f9ae7645bd0> False\n",
      "<tensorflow.python.keras.layers.convolutional.Conv2D object at 0x7f9ae764eb50> False\n",
      "<tensorflow.python.keras.layers.normalization_v2.BatchNormalization object at 0x7f9ae7654110> False\n",
      "<tensorflow.python.keras.layers.core.Dropout object at 0x7f9ae7657890> False\n",
      "<tensorflow.python.keras.layers.merge.Add object at 0x7f9ae765ca10> False\n",
      "<tensorflow.python.keras.layers.convolutional.Conv2D object at 0x7f9ae7663850> False\n",
      "<tensorflow.python.keras.layers.normalization_v2.BatchNormalization object at 0x7f9ae7657250> False\n",
      "<tensorflow.python.keras.layers.core.Activation object at 0x7f9ae7666a10> False\n",
      "<tensorflow.python.keras.layers.convolutional.DepthwiseConv2D object at 0x7f9ae7676650> False\n",
      "<tensorflow.python.keras.layers.normalization_v2.BatchNormalization object at 0x7f9ae7671b50> False\n",
      "<tensorflow.python.keras.layers.core.Activation object at 0x7f9ae75fb590> False\n",
      "<tensorflow.python.keras.layers.pooling.GlobalAveragePooling2D object at 0x7f9ae7607990> False\n",
      "<tensorflow.python.keras.layers.core.Reshape object at 0x7f9ae76070d0> False\n",
      "<tensorflow.python.keras.layers.convolutional.Conv2D object at 0x7f9ae7603810> False\n",
      "<tensorflow.python.keras.layers.convolutional.Conv2D object at 0x7f9ae7654210> False\n",
      "<tensorflow.python.keras.layers.merge.Multiply object at 0x7f9ae76a0b90> False\n",
      "<tensorflow.python.keras.layers.convolutional.Conv2D object at 0x7f9ae766c050> False\n",
      "<tensorflow.python.keras.layers.normalization_v2.BatchNormalization object at 0x7f9ae76b0b50> False\n",
      "<tensorflow.python.keras.layers.core.Dropout object at 0x7f9af8184ed0> False\n",
      "<tensorflow.python.keras.layers.merge.Add object at 0x7f9ae7765d10> False\n",
      "<tensorflow.python.keras.layers.convolutional.Conv2D object at 0x7f9ae76f6e90> False\n",
      "<tensorflow.python.keras.layers.normalization_v2.BatchNormalization object at 0x7f9ae76132d0> False\n",
      "<tensorflow.python.keras.layers.core.Activation object at 0x7f9ae7614690> False\n",
      "<tensorflow.python.keras.layers.convolutional.DepthwiseConv2D object at 0x7f9ae7613d10> False\n",
      "<tensorflow.python.keras.layers.normalization_v2.BatchNormalization object at 0x7f9ae761b210> False\n",
      "<tensorflow.python.keras.layers.core.Activation object at 0x7f9ae7627f10> False\n",
      "<tensorflow.python.keras.layers.pooling.GlobalAveragePooling2D object at 0x7f9ae7627110> False\n",
      "<tensorflow.python.keras.layers.core.Reshape object at 0x7f9ae76322d0> False\n",
      "<tensorflow.python.keras.layers.convolutional.Conv2D object at 0x7f9ae7638690> False\n",
      "<tensorflow.python.keras.layers.convolutional.Conv2D object at 0x7f9ae7632690> False\n",
      "<tensorflow.python.keras.layers.merge.Multiply object at 0x7f9ae75cdd50> False\n",
      "<tensorflow.python.keras.layers.convolutional.Conv2D object at 0x7f9ae75d4cd0> False\n",
      "<tensorflow.python.keras.layers.normalization_v2.BatchNormalization object at 0x7f9ae75d0b10> False\n",
      "<tensorflow.python.keras.layers.core.Dropout object at 0x7f9ae75dea10> False\n",
      "<tensorflow.python.keras.layers.merge.Add object at 0x7f9ae75e2b50> False\n",
      "<tensorflow.python.keras.layers.convolutional.Conv2D object at 0x7f9ae75ea090> False\n",
      "<tensorflow.python.keras.layers.normalization_v2.BatchNormalization object at 0x7f9ae75def90> False\n",
      "<tensorflow.python.keras.layers.core.Activation object at 0x7f9ae75ef1d0> False\n",
      "<tensorflow.python.keras.layers.convolutional.DepthwiseConv2D object at 0x7f9ae757cb10> False\n",
      "<tensorflow.python.keras.layers.normalization_v2.BatchNormalization object at 0x7f9ae757cb90> False\n",
      "<tensorflow.python.keras.layers.core.Activation object at 0x7f9ae7582750> False\n",
      "<tensorflow.python.keras.layers.pooling.GlobalAveragePooling2D object at 0x7f9ae757f8d0> False\n",
      "<tensorflow.python.keras.layers.core.Reshape object at 0x7f9ae7592810> False\n",
      "<tensorflow.python.keras.layers.convolutional.Conv2D object at 0x7f9ae7592310> False\n",
      "<tensorflow.python.keras.layers.convolutional.Conv2D object at 0x7f9ae75981d0> False\n",
      "<tensorflow.python.keras.layers.merge.Multiply object at 0x7f9ae759c190> False\n",
      "<tensorflow.python.keras.layers.convolutional.Conv2D object at 0x7f9ae75ef110> False\n",
      "<tensorflow.python.keras.layers.normalization_v2.BatchNormalization object at 0x7f9ae75af210> False\n",
      "<tensorflow.python.keras.layers.convolutional.Conv2D object at 0x7f9ae75b9a50> False\n",
      "<tensorflow.python.keras.layers.normalization_v2.BatchNormalization object at 0x7f9ae75b4dd0> False\n",
      "<tensorflow.python.keras.layers.core.Activation object at 0x7f9ae7542190> False\n",
      "<tensorflow.python.keras.layers.convolutional.DepthwiseConv2D object at 0x7f9ae754fd10> False\n",
      "<tensorflow.python.keras.layers.normalization_v2.BatchNormalization object at 0x7f9ae7549dd0> False\n",
      "<tensorflow.python.keras.layers.core.Activation object at 0x7f9ae75b9490> False\n",
      "<tensorflow.python.keras.layers.pooling.GlobalAveragePooling2D object at 0x7f9ae75b4a10> False\n",
      "<tensorflow.python.keras.layers.core.Reshape object at 0x7f9ae75db590> False\n",
      "<tensorflow.python.keras.layers.convolutional.Conv2D object at 0x7f9ae7598510> False\n",
      "<tensorflow.python.keras.layers.convolutional.Conv2D object at 0x7f9ae7638410> False\n",
      "<tensorflow.python.keras.layers.merge.Multiply object at 0x7f9ae7611290> False\n",
      "<tensorflow.python.keras.layers.convolutional.Conv2D object at 0x7f9ae76d6710> False\n",
      "<tensorflow.python.keras.layers.normalization_v2.BatchNormalization object at 0x7f9ae75fd6d0> False\n",
      "<tensorflow.python.keras.layers.core.Dropout object at 0x7f9ae755b850> False\n",
      "<tensorflow.python.keras.layers.merge.Add object at 0x7f9ae755d750> False\n",
      "<tensorflow.python.keras.layers.convolutional.Conv2D object at 0x7f9ae76a0950> False\n",
      "<tensorflow.python.keras.layers.normalization_v2.BatchNormalization object at 0x7f9ae75616d0> False\n",
      "<tensorflow.python.keras.layers.core.Activation object at 0x7f9ae756a190> False\n",
      "<tensorflow.python.keras.layers.convolutional.DepthwiseConv2D object at 0x7f9af8140c50> False\n",
      "<tensorflow.python.keras.layers.normalization_v2.BatchNormalization object at 0x7f9ae7573610> False\n",
      "<tensorflow.python.keras.layers.core.Activation object at 0x7f9ae7579150> False\n",
      "<tensorflow.python.keras.layers.pooling.GlobalAveragePooling2D object at 0x7f9ae7579810> False\n",
      "<tensorflow.python.keras.layers.core.Reshape object at 0x7f9ae75066d0> False\n",
      "<tensorflow.python.keras.layers.convolutional.Conv2D object at 0x7f9ae750a2d0> False\n",
      "<tensorflow.python.keras.layers.convolutional.Conv2D object at 0x7f9ae7511650> False\n",
      "<tensorflow.python.keras.layers.merge.Multiply object at 0x7f9ae7516f10> False\n",
      "<tensorflow.python.keras.layers.convolutional.Conv2D object at 0x7f9ae751d650> False\n",
      "<tensorflow.python.keras.layers.normalization_v2.BatchNormalization object at 0x7f9ae7527110> False\n",
      "<tensorflow.python.keras.layers.core.Dropout object at 0x7f9ae751b310> False\n",
      "<tensorflow.python.keras.layers.merge.Add object at 0x7f9ae752b590> False\n",
      "<tensorflow.python.keras.layers.convolutional.Conv2D object at 0x7f9ae7538110> False\n",
      "<tensorflow.python.keras.layers.normalization_v2.BatchNormalization object at 0x7f9ae74be750> False\n",
      "<tensorflow.python.keras.layers.core.Activation object at 0x7f9ae752bb50> False\n",
      "<tensorflow.python.keras.layers.convolutional.DepthwiseConv2D object at 0x7f9ae7532b90> False\n",
      "<tensorflow.python.keras.layers.normalization_v2.BatchNormalization object at 0x7f9ae74ccb10> False\n",
      "<tensorflow.python.keras.layers.core.Activation object at 0x7f9ae74c4e90> False\n",
      "<tensorflow.python.keras.layers.pooling.GlobalAveragePooling2D object at 0x7f9ae74d0590> False\n",
      "<tensorflow.python.keras.layers.core.Reshape object at 0x7f9ae74e05d0> False\n",
      "<tensorflow.python.keras.layers.convolutional.Conv2D object at 0x7f9ae74e0a50> False\n",
      "<tensorflow.python.keras.layers.convolutional.Conv2D object at 0x7f9ae74e5a90> False\n",
      "<tensorflow.python.keras.layers.merge.Multiply object at 0x7f9ae74efc10> False\n",
      "<tensorflow.python.keras.layers.convolutional.Conv2D object at 0x7f9ae74f9b90> False\n",
      "<tensorflow.python.keras.layers.normalization_v2.BatchNormalization object at 0x7f9ae74f3190> False\n",
      "<tensorflow.python.keras.layers.core.Dropout object at 0x7f9ae74808d0> False\n",
      "<tensorflow.python.keras.layers.merge.Add object at 0x7f9ae7487a50> False\n",
      "<tensorflow.python.keras.layers.convolutional.Conv2D object at 0x7f9ae748bed0> False\n",
      "<tensorflow.python.keras.layers.normalization_v2.BatchNormalization object at 0x7f9ae7480310> False\n",
      "<tensorflow.python.keras.layers.core.Activation object at 0x7f9ae74f9a10> False\n",
      "<tensorflow.python.keras.layers.convolutional.DepthwiseConv2D object at 0x7f9ae7527d50> False\n",
      "<tensorflow.python.keras.layers.normalization_v2.BatchNormalization object at 0x7f9ae74d0350> False\n",
      "<tensorflow.python.keras.layers.core.Activation object at 0x7f9ae7500c10> False\n",
      "<tensorflow.python.keras.layers.pooling.GlobalAveragePooling2D object at 0x7f9ae7575550> False\n",
      "<tensorflow.python.keras.layers.core.Reshape object at 0x7f9ae7638c50> False\n",
      "<tensorflow.python.keras.layers.convolutional.Conv2D object at 0x7f9ae755bd10> False\n",
      "<tensorflow.python.keras.layers.convolutional.Conv2D object at 0x7f9ae7611550> False\n",
      "<tensorflow.python.keras.layers.merge.Multiply object at 0x7f9ae7499f10> False\n",
      "<tensorflow.python.keras.layers.convolutional.Conv2D object at 0x7f9ae7498a90> False\n",
      "<tensorflow.python.keras.layers.normalization_v2.BatchNormalization object at 0x7f9ae749ae50> False\n",
      "<tensorflow.python.keras.layers.core.Dropout object at 0x7f9ae74a7b50> False\n",
      "<tensorflow.python.keras.layers.merge.Add object at 0x7f9ae74a7c50> False\n",
      "<tensorflow.python.keras.layers.convolutional.Conv2D object at 0x7f9ae749ab50> False\n",
      "<tensorflow.python.keras.layers.normalization_v2.BatchNormalization object at 0x7f9ae74b1b50> False\n",
      "<tensorflow.python.keras.layers.core.Activation object at 0x7f9ae743b610> False\n",
      "<tensorflow.python.keras.layers.convolutional.DepthwiseConv2D object at 0x7f9ae74b5910> False\n",
      "<tensorflow.python.keras.layers.normalization_v2.BatchNormalization object at 0x7f9ae7446a90> False\n",
      "<tensorflow.python.keras.layers.core.Activation object at 0x7f9ae7451050> False\n",
      "<tensorflow.python.keras.layers.pooling.GlobalAveragePooling2D object at 0x7f9ae7446bd0> False\n",
      "<tensorflow.python.keras.layers.core.Reshape object at 0x7f9ae744eb50> False\n",
      "<tensorflow.python.keras.layers.convolutional.Conv2D object at 0x7f9ae744f590> False\n",
      "<tensorflow.python.keras.layers.convolutional.Conv2D object at 0x7f9ae7469490> False\n",
      "<tensorflow.python.keras.layers.merge.Multiply object at 0x7f9ae74703d0> False\n",
      "<tensorflow.python.keras.layers.convolutional.Conv2D object at 0x7f9ae7472ad0> False\n",
      "<tensorflow.python.keras.layers.normalization_v2.BatchNormalization object at 0x7f9ae73fb590> False\n",
      "<tensorflow.python.keras.layers.core.Dropout object at 0x7f9ae7470910> False\n",
      "<tensorflow.python.keras.layers.merge.Add object at 0x7f9ae7401a10> False\n",
      "<tensorflow.python.keras.layers.convolutional.Conv2D object at 0x7f9ae7408290> False\n",
      "<tensorflow.python.keras.layers.normalization_v2.BatchNormalization object at 0x7f9ae7410bd0> False\n",
      "<tensorflow.python.keras.layers.core.Activation object at 0x7f9ae7401c10> False\n",
      "<tensorflow.python.keras.layers.convolutional.ZeroPadding2D object at 0x7f9ae74040d0> False\n",
      "<tensorflow.python.keras.layers.convolutional.DepthwiseConv2D object at 0x7f9ae741cb10> False\n",
      "<tensorflow.python.keras.layers.normalization_v2.BatchNormalization object at 0x7f9ae74770d0> False\n",
      "<tensorflow.python.keras.layers.core.Activation object at 0x7f9ae74048d0> False\n",
      "<tensorflow.python.keras.layers.pooling.GlobalAveragePooling2D object at 0x7f9ae7428890> False\n",
      "<tensorflow.python.keras.layers.core.Reshape object at 0x7f9ae7436190> False\n",
      "<tensorflow.python.keras.layers.convolutional.Conv2D object at 0x7f9ae7436d50> False\n",
      "<tensorflow.python.keras.layers.convolutional.Conv2D object at 0x7f9ae73bd210> False\n",
      "<tensorflow.python.keras.layers.merge.Multiply object at 0x7f9ae73cd0d0> False\n",
      "<tensorflow.python.keras.layers.convolutional.Conv2D object at 0x7f9ae73cd810> False\n",
      "<tensorflow.python.keras.layers.normalization_v2.BatchNormalization object at 0x7f9ae74230d0> False\n",
      "<tensorflow.python.keras.layers.convolutional.Conv2D object at 0x7f9ae7477190> False\n",
      "<tensorflow.python.keras.layers.normalization_v2.BatchNormalization object at 0x7f9ae74d0390> False\n",
      "<tensorflow.python.keras.layers.core.Activation object at 0x7f9ae7472450> False\n",
      "<tensorflow.python.keras.layers.convolutional.DepthwiseConv2D object at 0x7f9ae7436450> False\n",
      "<tensorflow.python.keras.layers.normalization_v2.BatchNormalization object at 0x7f9ae755df90> False\n",
      "<tensorflow.python.keras.layers.core.Activation object at 0x7f9ae74a1750> False\n",
      "<tensorflow.python.keras.layers.pooling.GlobalAveragePooling2D object at 0x7f9ae73d0a50> False\n",
      "<tensorflow.python.keras.layers.core.Reshape object at 0x7f9ae73d99d0> False\n",
      "<tensorflow.python.keras.layers.convolutional.Conv2D object at 0x7f9ae73d4d10> False\n",
      "<tensorflow.python.keras.layers.convolutional.Conv2D object at 0x7f9ae73dedd0> False\n",
      "<tensorflow.python.keras.layers.merge.Multiply object at 0x7f9ae73e4090> False\n",
      "<tensorflow.python.keras.layers.convolutional.Conv2D object at 0x7f9ae73f0750> False\n",
      "<tensorflow.python.keras.layers.normalization_v2.BatchNormalization object at 0x7f9ae73f7190> False\n",
      "<tensorflow.python.keras.layers.core.Dropout object at 0x7f9ae73f9c90> False\n",
      "<tensorflow.python.keras.layers.merge.Add object at 0x7f9ae7380c10> False\n",
      "<tensorflow.python.keras.layers.convolutional.Conv2D object at 0x7f9ae7385550> False\n",
      "<tensorflow.python.keras.layers.normalization_v2.BatchNormalization object at 0x7f9ae73f9ad0> False\n",
      "<tensorflow.python.keras.layers.core.Activation object at 0x7f9ae73880d0> False\n",
      "<tensorflow.python.keras.layers.convolutional.DepthwiseConv2D object at 0x7f9ae7393650> False\n",
      "<tensorflow.python.keras.layers.normalization_v2.BatchNormalization object at 0x7f9ae7397150> False\n",
      "<tensorflow.python.keras.layers.core.Activation object at 0x7f9ae739e190> False\n",
      "<tensorflow.python.keras.layers.pooling.GlobalAveragePooling2D object at 0x7f9ae73a6cd0> False\n",
      "<tensorflow.python.keras.layers.core.Reshape object at 0x7f9ae73a6350> False\n",
      "<tensorflow.python.keras.layers.convolutional.Conv2D object at 0x7f9ae738f550> False\n",
      "<tensorflow.python.keras.layers.convolutional.Conv2D object at 0x7f9ae73f7d90> False\n",
      "<tensorflow.python.keras.layers.merge.Multiply object at 0x7f9ae7388910> False\n",
      "<tensorflow.python.keras.layers.convolutional.Conv2D object at 0x7f9ae73b6a50> False\n",
      "<tensorflow.python.keras.layers.normalization_v2.BatchNormalization object at 0x7f9ae73a1e90> False\n",
      "<tensorflow.python.keras.layers.core.Dropout object at 0x7f9ae73402d0> False\n",
      "<tensorflow.python.keras.layers.merge.Add object at 0x7f9ae73f7810> False\n",
      "<tensorflow.python.keras.layers.convolutional.Conv2D object at 0x7f9ae734a090> False\n",
      "<tensorflow.python.keras.layers.normalization_v2.BatchNormalization object at 0x7f9ae73b0210> False\n",
      "<tensorflow.python.keras.layers.core.Activation object at 0x7f9ae734a4d0> False\n",
      "<tensorflow.python.keras.layers.convolutional.DepthwiseConv2D object at 0x7f9ae735e190> False\n",
      "<tensorflow.python.keras.layers.normalization_v2.BatchNormalization object at 0x7f9ae734d9d0> False\n",
      "<tensorflow.python.keras.layers.core.Activation object at 0x7f9ae735e9d0> False\n",
      "<tensorflow.python.keras.layers.pooling.GlobalAveragePooling2D object at 0x7f9ae7369cd0> False\n",
      "<tensorflow.python.keras.layers.core.Reshape object at 0x7f9ae7371590> False\n",
      "<tensorflow.python.keras.layers.convolutional.Conv2D object at 0x7f9ae7376f10> False\n",
      "<tensorflow.python.keras.layers.convolutional.Conv2D object at 0x7f9ae7302650> False\n",
      "<tensorflow.python.keras.layers.merge.Multiply object at 0x7f9ae72fe890> False\n",
      "<tensorflow.python.keras.layers.convolutional.Conv2D object at 0x7f9ae73023d0> False\n",
      "<tensorflow.python.keras.layers.normalization_v2.BatchNormalization object at 0x7f9ae7302410> False\n",
      "<tensorflow.python.keras.layers.core.Dropout object at 0x7f9ae734f690> False\n",
      "<tensorflow.python.keras.layers.merge.Add object at 0x7f9ae738f510> False\n",
      "<tensorflow.python.keras.layers.convolutional.Conv2D object at 0x7f9ae735e0d0> False\n",
      "<tensorflow.python.keras.layers.normalization_v2.BatchNormalization object at 0x7f9ae735ee90> False\n",
      "<tensorflow.python.keras.layers.core.Activation object at 0x7f9ae74d91d0> False\n",
      "<tensorflow.python.keras.layers.convolutional.DepthwiseConv2D object at 0x7f9ae744d0d0> False\n",
      "<tensorflow.python.keras.layers.normalization_v2.BatchNormalization object at 0x7f9ae73d70d0> False\n",
      "<tensorflow.python.keras.layers.core.Activation object at 0x7f9ae73d74d0> False\n",
      "<tensorflow.python.keras.layers.pooling.GlobalAveragePooling2D object at 0x7f9ae731ad10> False\n",
      "<tensorflow.python.keras.layers.core.Reshape object at 0x7f9ae7317310> False\n",
      "<tensorflow.python.keras.layers.convolutional.Conv2D object at 0x7f9ae73178d0> False\n",
      "<tensorflow.python.keras.layers.convolutional.Conv2D object at 0x7f9ae73f0450> False\n",
      "<tensorflow.python.keras.layers.merge.Multiply object at 0x7f9ae7317090> False\n",
      "<tensorflow.python.keras.layers.convolutional.Conv2D object at 0x7f9ae7329e50> False\n",
      "<tensorflow.python.keras.layers.normalization_v2.BatchNormalization object at 0x7f9ae7329b50> False\n",
      "<tensorflow.python.keras.layers.core.Dropout object at 0x7f9ae72c5cd0> False\n",
      "<tensorflow.python.keras.layers.merge.Add object at 0x7f9ae739e750> False\n",
      "<tensorflow.python.keras.layers.convolutional.Conv2D object at 0x7f9ae72bf550> False\n",
      "<tensorflow.python.keras.layers.normalization_v2.BatchNormalization object at 0x7f9ae72dc650> False\n",
      "<tensorflow.python.keras.layers.core.Activation object at 0x7f9ae72dcad0> False\n",
      "<tensorflow.python.keras.layers.convolutional.DepthwiseConv2D object at 0x7f9ae72cbdd0> False\n",
      "<tensorflow.python.keras.layers.normalization_v2.BatchNormalization object at 0x7f9ae73d4c90> False\n",
      "<tensorflow.python.keras.layers.core.Activation object at 0x7f9ae72cba50> False\n",
      "<tensorflow.python.keras.layers.pooling.GlobalAveragePooling2D object at 0x7f9ae72e9d10> False\n",
      "<tensorflow.python.keras.layers.core.Reshape object at 0x7f9ae72e9fd0> False\n",
      "<tensorflow.python.keras.layers.convolutional.Conv2D object at 0x7f9ae72f6e90> False\n",
      "<tensorflow.python.keras.layers.convolutional.Conv2D object at 0x7f9ae72d5890> False\n",
      "<tensorflow.python.keras.layers.merge.Multiply object at 0x7f9ae72f6f90> False\n",
      "<tensorflow.python.keras.layers.convolutional.Conv2D object at 0x7f9ae7282ad0> False\n",
      "<tensorflow.python.keras.layers.normalization_v2.BatchNormalization object at 0x7f9ae727d8d0> False\n",
      "<tensorflow.python.keras.layers.core.Dropout object at 0x7f9ae7298c50> False\n",
      "<tensorflow.python.keras.layers.merge.Add object at 0x7f9ae7291490> False\n",
      "<tensorflow.python.keras.layers.convolutional.Conv2D object at 0x7f9ae729ce50> False\n",
      "<tensorflow.python.keras.layers.normalization_v2.BatchNormalization object at 0x7f9ae72ae610> False\n",
      "<tensorflow.python.keras.layers.core.Activation object at 0x7f9ae72a76d0> False\n",
      "<tensorflow.python.keras.layers.convolutional.DepthwiseConv2D object at 0x7f9ae72a7650> False\n",
      "<tensorflow.python.keras.layers.normalization_v2.BatchNormalization object at 0x7f9ae723d390> False\n",
      "<tensorflow.python.keras.layers.core.Activation object at 0x7f9ae72b81d0> False\n",
      "<tensorflow.python.keras.layers.pooling.GlobalAveragePooling2D object at 0x7f9ae729cc90> False\n",
      "<tensorflow.python.keras.layers.core.Reshape object at 0x7f9ae72b4890> False\n",
      "<tensorflow.python.keras.layers.convolutional.Conv2D object at 0x7f9ae7254e90> False\n",
      "<tensorflow.python.keras.layers.convolutional.Conv2D object at 0x7f9ae72a7850> False\n",
      "<tensorflow.python.keras.layers.merge.Multiply object at 0x7f9ae724cd90> False\n",
      "<tensorflow.python.keras.layers.convolutional.Conv2D object at 0x7f9ae72472d0> False\n",
      "<tensorflow.python.keras.layers.normalization_v2.BatchNormalization object at 0x7f9ae7254a10> False\n",
      "<tensorflow.python.keras.layers.core.Dropout object at 0x7f9ae72dc890> False\n",
      "<tensorflow.python.keras.layers.merge.Add object at 0x7f9ae72e7050> False\n",
      "<tensorflow.python.keras.layers.convolutional.Conv2D object at 0x7f9ae72c5bd0> False\n",
      "<tensorflow.python.keras.layers.normalization_v2.BatchNormalization object at 0x7f9ae7340390> False\n",
      "<tensorflow.python.keras.layers.core.Activation object at 0x7f9ae7357350> False\n",
      "<tensorflow.python.keras.layers.convolutional.DepthwiseConv2D object at 0x7f9ae733dd50> False\n",
      "<tensorflow.python.keras.layers.normalization_v2.BatchNormalization object at 0x7f9ae72f0890> False\n",
      "<tensorflow.python.keras.layers.core.Activation object at 0x7f9ae730fd10> False\n",
      "<tensorflow.python.keras.layers.pooling.GlobalAveragePooling2D object at 0x7f9ae731ddd0> False\n",
      "<tensorflow.python.keras.layers.core.Reshape object at 0x7f9ae7262310> False\n",
      "<tensorflow.python.keras.layers.convolutional.Conv2D object at 0x7f9ae7272e50> False\n",
      "<tensorflow.python.keras.layers.convolutional.Conv2D object at 0x7f9ae73b0bd0> False\n",
      "<tensorflow.python.keras.layers.merge.Multiply object at 0x7f9ae7272950> False\n",
      "<tensorflow.python.keras.layers.convolutional.Conv2D object at 0x7f9ae7278750> False\n",
      "<tensorflow.python.keras.layers.normalization_v2.BatchNormalization object at 0x7f9ae72692d0> False\n",
      "<tensorflow.python.keras.layers.core.Dropout object at 0x7f9ae7201c90> False\n",
      "<tensorflow.python.keras.layers.merge.Add object at 0x7f9ae7205850> False\n",
      "<tensorflow.python.keras.layers.convolutional.Conv2D object at 0x7f9ae721dd10> False\n",
      "<tensorflow.python.keras.layers.normalization_v2.BatchNormalization object at 0x7f9ae720e390> False\n",
      "<tensorflow.python.keras.layers.core.Activation object at 0x7f9ae72132d0> False\n",
      "<tensorflow.python.keras.layers.convolutional.DepthwiseConv2D object at 0x7f9ae721d490> False\n",
      "<tensorflow.python.keras.layers.normalization_v2.BatchNormalization object at 0x7f9ae7228b50> False\n",
      "<tensorflow.python.keras.layers.core.Activation object at 0x7f9ae7231150> False\n",
      "<tensorflow.python.keras.layers.pooling.GlobalAveragePooling2D object at 0x7f9ae7221550> False\n",
      "<tensorflow.python.keras.layers.core.Reshape object at 0x7f9ae7217250> False\n",
      "<tensorflow.python.keras.layers.convolutional.Conv2D object at 0x7f9ae7238f50> False\n",
      "<tensorflow.python.keras.layers.convolutional.Conv2D object at 0x7f9ae7221890> False\n",
      "<tensorflow.python.keras.layers.merge.Multiply object at 0x7f9ae71d6a10> False\n",
      "<tensorflow.python.keras.layers.convolutional.Conv2D object at 0x7f9ae71c9b10> False\n",
      "<tensorflow.python.keras.layers.normalization_v2.BatchNormalization object at 0x7f9ae71c17d0> False\n",
      "<tensorflow.python.keras.layers.convolutional.Conv2D object at 0x7f9ae71deb50> False\n",
      "<tensorflow.python.keras.layers.normalization_v2.BatchNormalization object at 0x7f9ae71decd0> False\n",
      "<tensorflow.python.keras.layers.core.Activation object at 0x7f9ae71e95d0> False\n",
      "<tensorflow.python.keras.layers.convolutional.DepthwiseConv2D object at 0x7f9ae71e9090> False\n",
      "<tensorflow.python.keras.layers.normalization_v2.BatchNormalization object at 0x7f9ae71d7110> False\n",
      "<tensorflow.python.keras.layers.core.Activation object at 0x7f9ae71eee50> False\n",
      "<tensorflow.python.keras.layers.pooling.GlobalAveragePooling2D object at 0x7f9ae7185b10> False\n",
      "<tensorflow.python.keras.layers.core.Reshape object at 0x7f9ae718b550> False\n",
      "<tensorflow.python.keras.layers.convolutional.Conv2D object at 0x7f9ae71fabd0> False\n",
      "<tensorflow.python.keras.layers.convolutional.Conv2D object at 0x7f9ae719eed0> False\n",
      "<tensorflow.python.keras.layers.merge.Multiply object at 0x7f9ae719ef10> False\n",
      "<tensorflow.python.keras.layers.convolutional.Conv2D object at 0x7f9ae719e950> False\n",
      "<tensorflow.python.keras.layers.normalization_v2.BatchNormalization object at 0x7f9ae7197350> False\n",
      "<tensorflow.python.keras.layers.core.Dropout object at 0x7f9ae7238210> False\n",
      "<tensorflow.python.keras.layers.merge.Add object at 0x7f9ae71d7250> False\n",
      "<tensorflow.python.keras.layers.convolutional.Conv2D object at 0x7f9b30048d50> False\n",
      "<tensorflow.python.keras.layers.normalization_v2.BatchNormalization object at 0x7f9ae71bf850> False\n",
      "<tensorflow.python.keras.layers.core.Activation object at 0x7f9ae725f610> False\n"
     ]
    }
   ],
   "source": [
    "# Check the trainable status of the individual layers\n",
    "for layer in effnet_B4.layers:\n",
    "    print(layer, layer.trainable)"
   ]
  },
  {
   "cell_type": "markdown",
   "metadata": {
    "id": "bPJH9QswAhx5"
   },
   "source": [
    "# Six input image concats, pass through EfficientNetB4 with tabular data  Model"
   ]
  },
  {
   "cell_type": "code",
   "execution_count": null,
   "metadata": {
    "id": "MixBDgILCLpj"
   },
   "outputs": [],
   "source": [
    "#https://stackoverflow.com/q/60582442\n",
    "\n",
    "IMG_SIZE= 380\n",
    "\n",
    "# Multiple inputs \n",
    "input1 = tf.keras.Input(shape=(IMG_SIZE, IMG_SIZE, 1), name=\"img1\")\n",
    "input2 = tf.keras.Input(shape=(IMG_SIZE, IMG_SIZE, 1), name=\"img2\")\n",
    "input3 = tf.keras.Input(shape=(IMG_SIZE, IMG_SIZE, 1), name=\"img3\")\n",
    "input4 = tf.keras.Input(shape=(IMG_SIZE, IMG_SIZE, 1), name=\"img4\")\n",
    "input5 = tf.keras.Input(shape=(IMG_SIZE, IMG_SIZE, 1), name=\"img5\")\n",
    "input6 = tf.keras.Input(shape=(IMG_SIZE, IMG_SIZE, 1), name=\"img6\")\n",
    "\n",
    "# Concatenating all the six images\n",
    "concate_input = tf.keras.layers.Concatenate(axis=-1)([input1, input2, input3, input4, input5, input6])\n",
    "\n",
    "# Input for the efficient net model\n",
    "input = tf.keras.layers.Conv2D(3, (3, 3), padding='same', activation=\"relu\")(concate_input)"
   ]
  },
  {
   "cell_type": "code",
   "execution_count": null,
   "metadata": {
    "id": "BtdKNWOHhZzK"
   },
   "outputs": [],
   "source": [
    "# pass that to efficient net model \n",
    "effnet = effnet_B4(input)"
   ]
  },
  {
   "cell_type": "code",
   "execution_count": null,
   "metadata": {
    "id": "Us98AO-aPlHQ"
   },
   "outputs": [],
   "source": [
    "#https://stackoverflow.com/q/60582442\n",
    "\n",
    "y_flat = Flatten()(effnet) # Flatten dimensions to for use in FC layers\n",
    "y_dense1 = Dense(512, activation='relu')(y_flat)\n",
    "y_drop = Dropout(0.5)(y_dense1) # Dropout layer to reduce overfitting\n",
    "y_dense2 = Dense(256, activation='relu')(y_drop)\n",
    "\n",
    "in3 = Input(shape=(4,))# numeric data \n",
    "z = tf.keras.layers.GaussianNoise(0.2)(in3)\n",
    "\n",
    "con2 = Concatenate(axis=-1)([y_dense2,z]) # concatenation of image and numeric data\n",
    "con_z = tf.keras.layers.Dropout(0.6)(con2) \n",
    "con_z = tf.keras.layers.Dense(1)(con_z)\n",
    "con_z = tf.keras.layers.Dense(1, activation='sigmoid')(con_z)"
   ]
  },
  {
   "cell_type": "code",
   "execution_count": null,
   "metadata": {
    "id": "BRYVHicVcusI"
   },
   "outputs": [],
   "source": [
    "# Creating the model with Six image and one numeric data.\n",
    "model_effnet_B4 = Model([input1 ,input2, input3, input4, input5, input6, in3], con_z)"
   ]
  },
  {
   "cell_type": "code",
   "execution_count": null,
   "metadata": {
    "colab": {
     "base_uri": "https://localhost:8080/"
    },
    "id": "q-1OtPJddTmV",
    "outputId": "395ed239-25c6-4ce6-a8d1-cb1b91a96587"
   },
   "outputs": [
    {
     "name": "stdout",
     "output_type": "stream",
     "text": [
      "Model: \"model\"\n",
      "__________________________________________________________________________________________________\n",
      "Layer (type)                    Output Shape         Param #     Connected to                     \n",
      "==================================================================================================\n",
      "img1 (InputLayer)               [(None, 380, 380, 1) 0                                            \n",
      "__________________________________________________________________________________________________\n",
      "img2 (InputLayer)               [(None, 380, 380, 1) 0                                            \n",
      "__________________________________________________________________________________________________\n",
      "img3 (InputLayer)               [(None, 380, 380, 1) 0                                            \n",
      "__________________________________________________________________________________________________\n",
      "img4 (InputLayer)               [(None, 380, 380, 1) 0                                            \n",
      "__________________________________________________________________________________________________\n",
      "img5 (InputLayer)               [(None, 380, 380, 1) 0                                            \n",
      "__________________________________________________________________________________________________\n",
      "img6 (InputLayer)               [(None, 380, 380, 1) 0                                            \n",
      "__________________________________________________________________________________________________\n",
      "concatenate (Concatenate)       (None, 380, 380, 6)  0           img1[0][0]                       \n",
      "                                                                 img2[0][0]                       \n",
      "                                                                 img3[0][0]                       \n",
      "                                                                 img4[0][0]                       \n",
      "                                                                 img5[0][0]                       \n",
      "                                                                 img6[0][0]                       \n",
      "__________________________________________________________________________________________________\n",
      "conv2d (Conv2D)                 (None, 380, 380, 3)  165         concatenate[0][0]                \n",
      "__________________________________________________________________________________________________\n",
      "efficientnetb4 (Functional)     (None, None, None, 1 17673823    conv2d[0][0]                     \n",
      "__________________________________________________________________________________________________\n",
      "flatten (Flatten)               (None, 216832)       0           efficientnetb4[0][0]             \n",
      "__________________________________________________________________________________________________\n",
      "dense (Dense)                   (None, 512)          111018496   flatten[0][0]                    \n",
      "__________________________________________________________________________________________________\n",
      "dropout (Dropout)               (None, 512)          0           dense[0][0]                      \n",
      "__________________________________________________________________________________________________\n",
      "input_2 (InputLayer)            [(None, 4)]          0                                            \n",
      "__________________________________________________________________________________________________\n",
      "dense_1 (Dense)                 (None, 256)          131328      dropout[0][0]                    \n",
      "__________________________________________________________________________________________________\n",
      "gaussian_noise (GaussianNoise)  (None, 4)            0           input_2[0][0]                    \n",
      "__________________________________________________________________________________________________\n",
      "concatenate_1 (Concatenate)     (None, 260)          0           dense_1[0][0]                    \n",
      "                                                                 gaussian_noise[0][0]             \n",
      "__________________________________________________________________________________________________\n",
      "dropout_1 (Dropout)             (None, 260)          0           concatenate_1[0][0]              \n",
      "__________________________________________________________________________________________________\n",
      "dense_2 (Dense)                 (None, 1)            261         dropout_1[0][0]                  \n",
      "__________________________________________________________________________________________________\n",
      "dense_3 (Dense)                 (None, 1)            2           dense_2[0][0]                    \n",
      "==================================================================================================\n",
      "Total params: 128,824,075\n",
      "Trainable params: 111,150,252\n",
      "Non-trainable params: 17,673,823\n",
      "__________________________________________________________________________________________________\n"
     ]
    }
   ],
   "source": [
    "model_effnet_B4.summary()"
   ]
  },
  {
   "cell_type": "code",
   "execution_count": null,
   "metadata": {
    "colab": {
     "base_uri": "https://localhost:8080/",
     "height": 619
    },
    "id": "eEkRwkbmfaAw",
    "outputId": "f6d9b30b-b69a-4e65-92aa-53b0cc16708c"
   },
   "outputs": [
    {
     "data": {
      "image/png": "[encoded data removed]",
      "text/plain": [
       "<IPython.core.display.Image object>"
      ]
     },
     "execution_count": 23,
     "metadata": {
      "tags": []
     },
     "output_type": "execute_result"
    }
   ],
   "source": [
    "tensorflow.keras.utils.plot_model(model_effnet_B4, 'model_effnet_B4.png', show_shapes=True)"
   ]
  },
  {
   "cell_type": "code",
   "execution_count": null,
   "metadata": {
    "id": "2BQ55pw_djBZ"
   },
   "outputs": [],
   "source": [
    "# Model compilation with Adam optimizer having learning_rate is 0.001 and loss is Mean Absolute Error\n",
    "\n",
    "model_effnet_B4.compile(optimizer=tensorflow.keras.optimizers.Adam(learning_rate=0.001), loss='mae')\n",
    "\n",
    "tr_p, vl_p = train_test_split(P, shuffle=True, train_size= 0.8) "
   ]
  },
  {
   "cell_type": "code",
   "execution_count": null,
   "metadata": {
    "id": "t_qbpBQMJayV"
   },
   "outputs": [],
   "source": [
    "# https://www.tensorflow.org/api_docs/python/tf/keras/callbacks/EarlyStopping\n",
    "\n",
    "es = tf.keras.callbacks.EarlyStopping(monitor=\"val_loss\",min_delta=1e-3,patience=4,verbose=1,mode=\"auto\", \n",
    "                                      baseline=None,restore_best_weights=True,)\n",
    "\n",
    "# https://www.tensorflow.org/api_docs/python/tf/keras/callbacks/ReduceLROnPlateau\n",
    "my_callbacks = [es,tf.keras.callbacks.ReduceLROnPlateau(factor=0.1, patience=3, min_lr=0.00001, verbose=1),\n",
    "    tf.keras.callbacks.ModelCheckpoint(filepath = 'drive1/Colab Notebooks/' + 'model_6_image_effnet_B4.h5', \n",
    "                                       verbose=1, save_best_only=True, save_weights_only=False) ]"
   ]
  },
  {
   "cell_type": "code",
   "execution_count": null,
   "metadata": {
    "colab": {
     "base_uri": "https://localhost:8080/"
    },
    "id": "jS-MazRLQ72X",
    "outputId": "a4dac60e-2ba2-41cb-e5e4-e9253671f9a7"
   },
   "outputs": [
    {
     "name": "stderr",
     "output_type": "stream",
     "text": [
      "/usr/local/lib/python3.7/dist-packages/tensorflow/python/keras/engine/training.py:1940: UserWarning: `Model.fit_generator` is deprecated and will be removed in a future version. Please use `Model.fit`, which supports generators.\n",
      "  warnings.warn('`Model.fit_generator` is deprecated and '\n"
     ]
    },
    {
     "name": "stdout",
     "output_type": "stream",
     "text": [
      "Epoch 1/4\n",
      "100/100 [==============================] - 2839s 28s/step - loss: 5.4561 - val_loss: 5.5081\n",
      "\n",
      "Epoch 00001: val_loss improved from inf to 5.50811, saving model to drive1/Colab Notebooks/model_6_image_effnet_B4.h5\n"
     ]
    },
    {
     "name": "stderr",
     "output_type": "stream",
     "text": [
      "/usr/local/lib/python3.7/dist-packages/tensorflow/python/keras/utils/generic_utils.py:497: CustomMaskWarning: Custom mask layers require a config and must override get_config. When loading, the custom mask layer must be passed to the custom_objects argument.\n",
      "  category=CustomMaskWarning)\n"
     ]
    },
    {
     "name": "stdout",
     "output_type": "stream",
     "text": [
      "Epoch 2/4\n",
      "100/100 [==============================] - 2362s 24s/step - loss: 5.3690 - val_loss: 5.1364\n",
      "\n",
      "Epoch 00002: val_loss improved from 5.50811 to 5.13637, saving model to drive1/Colab Notebooks/model_6_image_effnet_B4.h5\n",
      "Epoch 3/4\n",
      "100/100 [==============================] - 2259s 23s/step - loss: 5.1774 - val_loss: 4.7852\n",
      "\n",
      "Epoch 00003: val_loss improved from 5.13637 to 4.78515, saving model to drive1/Colab Notebooks/model_6_image_effnet_B4.h5\n",
      "Epoch 4/4\n",
      "100/100 [==============================] - 2046s 20s/step - loss: 5.5552 - val_loss: 6.7290\n",
      "\n",
      "Epoch 00004: val_loss did not improve from 4.78515\n"
     ]
    }
   ],
   "source": [
    "# running the model with steps_per_epoch = 100 & validation_steps = 20 \n",
    "history_effnet_B4_Pass_2_images = model_effnet_B4.fit_generator(IGenerator(keys=tr_p, \n",
    "                               a = A, \n",
    "                               tab = TAB), \n",
    "                    steps_per_epoch = 100,\n",
    "                    validation_data=IGenerator(keys=vl_p, \n",
    "                               a = A, \n",
    "                               tab = TAB),\n",
    "                    validation_steps = 20, \n",
    "                    callbacks = my_callbacks, \n",
    "                    epochs=4)"
   ]
  },
  {
   "cell_type": "markdown",
   "metadata": {
    "id": "DxwFfF76Mzuu"
   },
   "source": [
    "# Predictions are evaluated with a modified version of the following\n",
    "# Laplace Log Likelihood"
   ]
  },
  {
   "cell_type": "code",
   "execution_count": null,
   "metadata": {
    "id": "LrbmPB3giOnZ"
   },
   "outputs": [],
   "source": [
    "# Predictions are evaluated with a modified version of the Laplace Log Likelihood\n",
    "\n",
    "def score(fvc_true, fvc_pred, sigma):\n",
    "    sigma_clip = np.maximum(sigma,70)\n",
    "    delta = np.abs(fvc_true - fvc_pred)\n",
    "    delta = np.minimum(delta,1000)\n",
    "    sqrt = np.sqrt(2)\n",
    "    metric = (delta/sigma_clip)*sqrt + np.log(sigma_clip*sqrt)\n",
    "    return np.mean(metric)"
   ]
  },
  {
   "cell_type": "code",
   "execution_count": null,
   "metadata": {
    "colab": {
     "base_uri": "https://localhost:8080/",
     "height": 202,
     "referenced_widgets": [
      "58d926f9b15f40edbc0d1dea825100d9",
      "7da44a41fdee441e9dc7b26420b26020",
      "edc7aa9f2ec54190846055ee50921e48",
      "8c675dac64804363ad8669c27b71f5fd",
      "fdcd51d2935f4bc78e14ad948b0f36db",
      "152b467f5e7b4ad29f2a1776851092b1",
      "34a740f4dd4f4389a7b5acf39aaf74fa",
      "67828e41f71c4ce797edcef839c41d46",
      "23a7194330fe49d5ad0ce77e45cd5bc6",
      "f68320e127de4892ad4156d618466aea",
      "3d88bcb2a61b4e878c6c64224db7d169"
     ]
    },
    "id": "R5pDv64OihI0",
    "outputId": "8536d615-8473-491a-a800-c642c5b5f6dc"
   },
   "outputs": [
    {
     "data": {
      "application/vnd.jupyter.widget-view+json": {
       "model_id": "58d926f9b15f40edbc0d1dea825100d9",
       "version_major": 2,
       "version_minor": 0
      },
      "text/plain": [
       "  0%|          | 0/9 [00:00<?, ?it/s]"
      ]
     },
     "metadata": {
      "tags": []
     },
     "output_type": "display_data"
    },
    {
     "name": "stdout",
     "output_type": "stream",
     "text": [
      "7.47565712026358\n",
      "7.47565712026358\n",
      "7.47565712026358\n",
      "7.47565712026358\n",
      "7.47565712026358\n",
      "7.47565712026358\n",
      "7.47565712026358\n",
      "7.47565712026358\n",
      "7.47565712026358\n"
     ]
    }
   ],
   "source": [
    "from tqdm.notebook import tqdm\n",
    "\n",
    "metric = []\n",
    "for q in tqdm(range(1, 10)):\n",
    "    m = []\n",
    "    for p in vl_p:\n",
    "        x,y,z,w,u,v = [], [], [], [], [], []\n",
    "        tab = [] \n",
    "        \n",
    "        if p in ['ID00011637202177653955184', 'ID00052637202186188008618']:\n",
    "            continue\n",
    "            \n",
    "        if os.path.isdir('drive1/Colab Notebooks/train2/' + p)== True:\n",
    "          img_set = os.listdir(f'drive1/Colab Notebooks/train2/{p}/')\n",
    "          img_set = np.random.choice(img_set, size=20)\n",
    "          for i in img_set:\n",
    "            x.append(get_img(f'drive1/Colab Notebooks/train2/{p}/{i}')) \n",
    "            y.append(get_img(f'drive1/Colab Notebooks/train2/{p}/{i}'))\n",
    "            z.append(get_img(f'drive1/Colab Notebooks/train2/{p}/{i}'))\n",
    "            w.append(get_img(f'drive1/Colab Notebooks/train2/{p}/{i}'))\n",
    "            u.append(get_img(f'drive1/Colab Notebooks/train2/{p}/{i}'))\n",
    "            v.append(get_img(f'drive1/Colab Notebooks/train2/{p}/{i}'))\n",
    "            tab.append(get_tab(train.loc[train.Patient == p, :])) \n",
    "        else:  \n",
    "          img_set = os.listdir(f'drive/My Drive/Colab Notebooks/train1/{p}/')\n",
    "          img_set = np.random.choice(img_set, size=20)\n",
    "          for i in img_set:\n",
    "            x.append(get_img(f'drive/My Drive/Colab Notebooks/train1/{p}/{i}')) \n",
    "            y.append(get_img(f'drive/My Drive/Colab Notebooks/train1/{p}/{i}'))\n",
    "            z.append(get_img(f'drive/My Drive/Colab Notebooks/train1/{p}/{i}'))\n",
    "            w.append(get_img(f'drive/My Drive/Colab Notebooks/train1/{p}/{i}'))\n",
    "            u.append(get_img(f'drive/My Drive/Colab Notebooks/train1/{p}/{i}'))\n",
    "            v.append(get_img(f'drive/My Drive/Colab Notebooks/train1/{p}/{i}'))\n",
    "            tab.append(get_tab(train.loc[train.Patient == p, :]))\n",
    "         \n",
    "        tab = np.array(tab) \n",
    "    \n",
    "        x = np.expand_dims(x, axis=-1)\n",
    "        y = np.expand_dims(y, axis=-1)\n",
    "        z = np.expand_dims(z, axis=-1)\n",
    "        w = np.expand_dims(w, axis=-1)\n",
    "        u = np.expand_dims(u, axis=-1)\n",
    "        v = np.expand_dims(v, axis=-1)\n",
    "        _a = model_effnet_B4.predict([x,y,z,w,u,v, tab])\n",
    "        a = np.quantile(_a, q / 10)\n",
    "        \n",
    "        percent_true = train.Percent.values[train.Patient == p]\n",
    "        fvc_true = train.FVC.values[train.Patient == p]\n",
    "        weeks_true = train.Weeks.values[train.Patient == p]\n",
    "        \n",
    "        fvc = a * (weeks_true - weeks_true[0]) + fvc_true[0]\n",
    "        percent = percent_true[0] - a * abs(weeks_true - weeks_true[0])\n",
    "        m.append(score(fvc_true, fvc, percent))\n",
    "\n",
    "    print(np.mean(m))\n",
    "    metric.append(np.mean(m))"
   ]
  },
  {
   "cell_type": "code",
   "execution_count": null,
   "metadata": {
    "colab": {
     "base_uri": "https://localhost:8080/"
    },
    "id": "58vW7HDFNcOT",
    "outputId": "0ff509e4-a5bd-4a71-a8eb-0d32737a7a1a"
   },
   "outputs": [
    {
     "data": {
      "text/plain": [
       "0.1"
      ]
     },
     "execution_count": 38,
     "metadata": {
      "tags": []
     },
     "output_type": "execute_result"
    }
   ],
   "source": [
    "q = (np.argmin(metric) + 1)/ 10\n",
    "q "
   ]
  },
  {
   "cell_type": "code",
   "execution_count": null,
   "metadata": {
    "colab": {
     "base_uri": "https://localhost:8080/",
     "height": 204
    },
    "id": "EUMjidwFld-X",
    "outputId": "9f3c5ee2-27c6-4fd5-f4b9-dec84ba6ee8c"
   },
   "outputs": [
    {
     "data": {
      "text/html": [
       "<div>\n",
       "<style scoped>\n",
       "    .dataframe tbody tr th:only-of-type {\n",
       "        vertical-align: middle;\n",
       "    }\n",
       "\n",
       "    .dataframe tbody tr th {\n",
       "        vertical-align: top;\n",
       "    }\n",
       "\n",
       "    .dataframe thead th {\n",
       "        text-align: right;\n",
       "    }\n",
       "</style>\n",
       "<table border=\"1\" class=\"dataframe\">\n",
       "  <thead>\n",
       "    <tr style=\"text-align: right;\">\n",
       "      <th></th>\n",
       "      <th>Patient_Week</th>\n",
       "      <th>FVC</th>\n",
       "      <th>Confidence</th>\n",
       "    </tr>\n",
       "  </thead>\n",
       "  <tbody>\n",
       "    <tr>\n",
       "      <th>0</th>\n",
       "      <td>ID00419637202311204720264_-12</td>\n",
       "      <td>2000</td>\n",
       "      <td>100</td>\n",
       "    </tr>\n",
       "    <tr>\n",
       "      <th>1</th>\n",
       "      <td>ID00421637202311550012437_-12</td>\n",
       "      <td>2000</td>\n",
       "      <td>100</td>\n",
       "    </tr>\n",
       "    <tr>\n",
       "      <th>2</th>\n",
       "      <td>ID00422637202311677017371_-12</td>\n",
       "      <td>2000</td>\n",
       "      <td>100</td>\n",
       "    </tr>\n",
       "    <tr>\n",
       "      <th>3</th>\n",
       "      <td>ID00423637202312137826377_-12</td>\n",
       "      <td>2000</td>\n",
       "      <td>100</td>\n",
       "    </tr>\n",
       "    <tr>\n",
       "      <th>4</th>\n",
       "      <td>ID00426637202313170790466_-12</td>\n",
       "      <td>2000</td>\n",
       "      <td>100</td>\n",
       "    </tr>\n",
       "  </tbody>\n",
       "</table>\n",
       "</div>"
      ],
      "text/plain": [
       "                    Patient_Week   FVC  Confidence\n",
       "0  ID00419637202311204720264_-12  2000         100\n",
       "1  ID00421637202311550012437_-12  2000         100\n",
       "2  ID00422637202311677017371_-12  2000         100\n",
       "3  ID00423637202312137826377_-12  2000         100\n",
       "4  ID00426637202313170790466_-12  2000         100"
      ]
     },
     "execution_count": 39,
     "metadata": {
      "tags": []
     },
     "output_type": "execute_result"
    }
   ],
   "source": [
    "'''sub = pd.read_csv('drive/My Drive/Colab Notebooks/sample_submission.csv') \n",
    "sub"
   ]
  },
  {
   "cell_type": "code",
   "execution_count": null,
   "metadata": {
    "colab": {
     "base_uri": "https://localhost:8080/",
     "height": 204
    },
    "id": "-7XDudrHlfBx",
    "outputId": "a4afb2db-995c-4f45-e5aa-d78e750427c2"
   },
   "outputs": [
    {
     "data": {
      "text/html": [
       "<div>\n",
       "<style scoped>\n",
       "    .dataframe tbody tr th:only-of-type {\n",
       "        vertical-align: middle;\n",
       "    }\n",
       "\n",
       "    .dataframe tbody tr th {\n",
       "        vertical-align: top;\n",
       "    }\n",
       "\n",
       "    .dataframe thead th {\n",
       "        text-align: right;\n",
       "    }\n",
       "</style>\n",
       "<table border=\"1\" class=\"dataframe\">\n",
       "  <thead>\n",
       "    <tr style=\"text-align: right;\">\n",
       "      <th></th>\n",
       "      <th>Patient</th>\n",
       "      <th>Weeks</th>\n",
       "      <th>FVC</th>\n",
       "      <th>Percent</th>\n",
       "      <th>Age</th>\n",
       "      <th>Sex</th>\n",
       "      <th>SmokingStatus</th>\n",
       "    </tr>\n",
       "  </thead>\n",
       "  <tbody>\n",
       "    <tr>\n",
       "      <th>0</th>\n",
       "      <td>ID00419637202311204720264</td>\n",
       "      <td>6</td>\n",
       "      <td>3020</td>\n",
       "      <td>70.186855</td>\n",
       "      <td>73</td>\n",
       "      <td>Male</td>\n",
       "      <td>Ex-smoker</td>\n",
       "    </tr>\n",
       "    <tr>\n",
       "      <th>1</th>\n",
       "      <td>ID00421637202311550012437</td>\n",
       "      <td>15</td>\n",
       "      <td>2739</td>\n",
       "      <td>82.045291</td>\n",
       "      <td>68</td>\n",
       "      <td>Male</td>\n",
       "      <td>Ex-smoker</td>\n",
       "    </tr>\n",
       "    <tr>\n",
       "      <th>2</th>\n",
       "      <td>ID00422637202311677017371</td>\n",
       "      <td>6</td>\n",
       "      <td>1930</td>\n",
       "      <td>76.672493</td>\n",
       "      <td>73</td>\n",
       "      <td>Male</td>\n",
       "      <td>Ex-smoker</td>\n",
       "    </tr>\n",
       "    <tr>\n",
       "      <th>3</th>\n",
       "      <td>ID00423637202312137826377</td>\n",
       "      <td>17</td>\n",
       "      <td>3294</td>\n",
       "      <td>79.258903</td>\n",
       "      <td>72</td>\n",
       "      <td>Male</td>\n",
       "      <td>Ex-smoker</td>\n",
       "    </tr>\n",
       "    <tr>\n",
       "      <th>4</th>\n",
       "      <td>ID00426637202313170790466</td>\n",
       "      <td>0</td>\n",
       "      <td>2925</td>\n",
       "      <td>71.824968</td>\n",
       "      <td>73</td>\n",
       "      <td>Male</td>\n",
       "      <td>Never smoked</td>\n",
       "    </tr>\n",
       "  </tbody>\n",
       "</table>\n",
       "</div>"
      ],
      "text/plain": [
       "                     Patient  Weeks   FVC    Percent  Age   Sex SmokingStatus\n",
       "0  ID00419637202311204720264      6  3020  70.186855   73  Male     Ex-smoker\n",
       "1  ID00421637202311550012437     15  2739  82.045291   68  Male     Ex-smoker\n",
       "2  ID00422637202311677017371      6  1930  76.672493   73  Male     Ex-smoker\n",
       "3  ID00423637202312137826377     17  3294  79.258903   72  Male     Ex-smoker\n",
       "4  ID00426637202313170790466      0  2925  71.824968   73  Male  Never smoked"
      ]
     },
     "execution_count": 40,
     "metadata": {
      "tags": []
     },
     "output_type": "execute_result"
    }
   ],
   "source": [
    "# test data\n",
    "test = pd.read_csv('drive/My Drive/Colab Notebooks/test.csv') \n",
    "test.head()"
   ]
  },
  {
   "cell_type": "code",
   "execution_count": null,
   "metadata": {
    "id": "PXQkCqCzhwkI"
   },
   "outputs": [],
   "source": [
    "A_test, B_test, P_test, FVC= {}, {}, {},{}\n",
    "STD, WEEK = {}, {} \n",
    "for p in test.Patient.unique():\n",
    "    x,y,z,w,u,v = [], [], [], [], [], []\n",
    "    tab = [] \n",
    "\n",
    "    if os.path.isdir('drive1/Colab Notebooks/train2/' + p)== True:\n",
    "      img_set = os.listdir(f'drive1/Colab Notebooks/train2/{p}/')\n",
    "      img_set = np.random.choice(img_set, size=20)\n",
    "      for i in img_set:\n",
    "          x.append(get_img(f'drive1/Colab Notebooks/train2/{p}/{i}')) \n",
    "          y.append(get_img(f'drive1/Colab Notebooks/train2/{p}/{i}'))\n",
    "          z.append(get_img(f'drive1/Colab Notebooks/train2/{p}/{i}')) \n",
    "          w.append(get_img(f'drive1/Colab Notebooks/train2/{p}/{i}'))\n",
    "          u.append(get_img(f'drive1/Colab Notebooks/train2/{p}/{i}')) \n",
    "          v.append(get_img(f'drive1/Colab Notebooks/train2/{p}/{i}'))\n",
    "\n",
    "          tab.append(get_tab(train.loc[train.Patient == p, :])) \n",
    "    else: \n",
    "      img_set = os.listdir(f'drive/My Drive/Colab Notebooks/train1/{p}/')\n",
    "      img_set = np.random.choice(img_set, size=20)\n",
    "      for i in img_set:\n",
    "\n",
    "          x.append(get_img(f'drive/My Drive/Colab Notebooks/train1/{p}/{i}')) \n",
    "          y.append(get_img(f'drive/My Drive/Colab Notebooks/train1/{p}/{i}'))\n",
    "          z.append(get_img(f'drive/My Drive/Colab Notebooks/train1/{p}/{i}'))\n",
    "          w.append(get_img(f'drive/My Drive/Colab Notebooks/train1/{p}/{i}'))\n",
    "          u.append(get_img(f'drive/My Drive/Colab Notebooks/train1/{p}/{i}'))\n",
    "          v.append(get_img(f'drive/My Drive/Colab Notebooks/train1/{p}/{i}'))\n",
    "          \n",
    "          tab.append(get_tab(train.loc[train.Patient == p, :]))\n",
    "\n",
    "   \n",
    "    tab = np.array(tab) \n",
    "            \n",
    "    x = np.expand_dims(x, axis=-1) \n",
    "    y = np.expand_dims(y, axis=-1)\n",
    "    z = np.expand_dims(z, axis=-1) \n",
    "    w = np.expand_dims(w, axis=-1)\n",
    "    u = np.expand_dims(u, axis=-1) \n",
    "    v = np.expand_dims(v, axis=-1) \n",
    "\n",
    "    _a = model_effnet_B4.predict([x,y,z,w,u,v, tab]) \n",
    "    a = np.quantile(_a, q)\n",
    "    A_test[p] = a\n",
    "    B_test[p] = test.FVC.values[test.Patient == p] - a*test.Weeks.values[test.Patient == p]\n",
    "    P_test[p] = test.Percent.values[test.Patient == p] \n",
    "    WEEK[p] = test.Weeks.values[test.Patient == p]"
   ]
  },
  {
   "cell_type": "code",
   "execution_count": null,
   "metadata": {
    "colab": {
     "base_uri": "https://localhost:8080/",
     "height": 204
    },
    "id": "4MkWbFgSk_mY",
    "outputId": "c9b11bed-57f4-4dbd-d9bf-4a731d9b14f3"
   },
   "outputs": [
    {
     "data": {
      "text/html": [
       "<div>\n",
       "<style scoped>\n",
       "    .dataframe tbody tr th:only-of-type {\n",
       "        vertical-align: middle;\n",
       "    }\n",
       "\n",
       "    .dataframe tbody tr th {\n",
       "        vertical-align: top;\n",
       "    }\n",
       "\n",
       "    .dataframe thead th {\n",
       "        text-align: right;\n",
       "    }\n",
       "</style>\n",
       "<table border=\"1\" class=\"dataframe\">\n",
       "  <thead>\n",
       "    <tr style=\"text-align: right;\">\n",
       "      <th></th>\n",
       "      <th>Patient_Week</th>\n",
       "      <th>FVC</th>\n",
       "      <th>Confidence</th>\n",
       "    </tr>\n",
       "  </thead>\n",
       "  <tbody>\n",
       "    <tr>\n",
       "      <th>0</th>\n",
       "      <td>ID00419637202311204720264_-12</td>\n",
       "      <td>3020.0</td>\n",
       "      <td>70.186855</td>\n",
       "    </tr>\n",
       "    <tr>\n",
       "      <th>1</th>\n",
       "      <td>ID00421637202311550012437_-12</td>\n",
       "      <td>2739.0</td>\n",
       "      <td>82.045291</td>\n",
       "    </tr>\n",
       "    <tr>\n",
       "      <th>2</th>\n",
       "      <td>ID00422637202311677017371_-12</td>\n",
       "      <td>1930.0</td>\n",
       "      <td>76.672493</td>\n",
       "    </tr>\n",
       "    <tr>\n",
       "      <th>3</th>\n",
       "      <td>ID00423637202312137826377_-12</td>\n",
       "      <td>3294.0</td>\n",
       "      <td>79.258903</td>\n",
       "    </tr>\n",
       "    <tr>\n",
       "      <th>4</th>\n",
       "      <td>ID00426637202313170790466_-12</td>\n",
       "      <td>2925.0</td>\n",
       "      <td>71.824968</td>\n",
       "    </tr>\n",
       "  </tbody>\n",
       "</table>\n",
       "</div>"
      ],
      "text/plain": [
       "                    Patient_Week     FVC  Confidence\n",
       "0  ID00419637202311204720264_-12  3020.0   70.186855\n",
       "1  ID00421637202311550012437_-12  2739.0   82.045291\n",
       "2  ID00422637202311677017371_-12  1930.0   76.672493\n",
       "3  ID00423637202312137826377_-12  3294.0   79.258903\n",
       "4  ID00426637202313170790466_-12  2925.0   71.824968"
      ]
     },
     "execution_count": 44,
     "metadata": {
      "tags": []
     },
     "output_type": "execute_result"
    }
   ],
   "source": [
    "for k in sub.Patient_Week.values:\n",
    "    p, w = k.split('_')\n",
    "    w = int(w) \n",
    "    \n",
    "    fvc = A_test[p] * w + B_test[p]\n",
    "    sub.loc[sub.Patient_Week == k, 'FVC'] = fvc\n",
    "    sub.loc[sub.Patient_Week == k, 'Confidence'] = (\n",
    "        P_test[p] - A_test[p] * abs(WEEK[p] - w) \n",
    ") \n",
    "sub.head()"
   ]
  },
  {
   "cell_type": "code",
   "execution_count": null,
   "metadata": {
    "id": "OkoVybGhKDsu"
   },
   "outputs": [],
   "source": [
    "# https://stackoverflow.com/a/66237999\n",
    "sub[[\"Patient_Week\",\"FVC\",\"Confidence\"]].to_csv(\"drive/My Drive/Colab Notebooks/submission.csv\", index=False, encoding='utf-8-sig')\n",
    "\n",
    "sub[[\"Patient_Week\",\"FVC\",\"Confidence\"]].to_csv(\"drive1/Colab Notebooks/submission.csv\", index=False, encoding='utf-8-sig')"
   ]
  },
  {
   "cell_type": "code",
   "execution_count": null,
   "metadata": {
    "colab": {
     "base_uri": "https://localhost:8080/",
     "height": 204
    },
    "id": "D54UnxQlKWZZ",
    "outputId": "fc66826f-a066-465a-ef8d-2ea9ab6f2ac5"
   },
   "outputs": [
    {
     "data": {
      "text/html": [
       "<div>\n",
       "<style scoped>\n",
       "    .dataframe tbody tr th:only-of-type {\n",
       "        vertical-align: middle;\n",
       "    }\n",
       "\n",
       "    .dataframe tbody tr th {\n",
       "        vertical-align: top;\n",
       "    }\n",
       "\n",
       "    .dataframe thead th {\n",
       "        text-align: right;\n",
       "    }\n",
       "</style>\n",
       "<table border=\"1\" class=\"dataframe\">\n",
       "  <thead>\n",
       "    <tr style=\"text-align: right;\">\n",
       "      <th></th>\n",
       "      <th>Patient_Week</th>\n",
       "      <th>FVC</th>\n",
       "      <th>Confidence</th>\n",
       "    </tr>\n",
       "  </thead>\n",
       "  <tbody>\n",
       "    <tr>\n",
       "      <th>0</th>\n",
       "      <td>ID00419637202311204720264_-12</td>\n",
       "      <td>3020.0</td>\n",
       "      <td>70.186855</td>\n",
       "    </tr>\n",
       "    <tr>\n",
       "      <th>1</th>\n",
       "      <td>ID00421637202311550012437_-12</td>\n",
       "      <td>2739.0</td>\n",
       "      <td>82.045291</td>\n",
       "    </tr>\n",
       "    <tr>\n",
       "      <th>2</th>\n",
       "      <td>ID00422637202311677017371_-12</td>\n",
       "      <td>1930.0</td>\n",
       "      <td>76.672493</td>\n",
       "    </tr>\n",
       "    <tr>\n",
       "      <th>3</th>\n",
       "      <td>ID00423637202312137826377_-12</td>\n",
       "      <td>3294.0</td>\n",
       "      <td>79.258903</td>\n",
       "    </tr>\n",
       "    <tr>\n",
       "      <th>4</th>\n",
       "      <td>ID00426637202313170790466_-12</td>\n",
       "      <td>2925.0</td>\n",
       "      <td>71.824968</td>\n",
       "    </tr>\n",
       "  </tbody>\n",
       "</table>\n",
       "</div>"
      ],
      "text/plain": [
       "                    Patient_Week     FVC  Confidence\n",
       "0  ID00419637202311204720264_-12  3020.0   70.186855\n",
       "1  ID00421637202311550012437_-12  2739.0   82.045291\n",
       "2  ID00422637202311677017371_-12  1930.0   76.672493\n",
       "3  ID00423637202312137826377_-12  3294.0   79.258903\n",
       "4  ID00426637202313170790466_-12  2925.0   71.824968"
      ]
     },
     "execution_count": 51,
     "metadata": {
      "tags": []
     },
     "output_type": "execute_result"
    }
   ],
   "source": [
    "sub_sub = pd.read_csv(\"drive/My Drive/Colab Notebooks/submission.csv\") \n",
    "sub_sub.head() "
   ]
  },
  {
   "cell_type": "code",
   "execution_count": null,
   "metadata": {
    "colab": {
     "base_uri": "https://localhost:8080/",
     "height": 204
    },
    "id": "ah7qbZbLF5BO",
    "outputId": "cfc894b0-e72e-4045-b0cf-68d647e19c63"
   },
   "outputs": [
    {
     "data": {
      "text/html": [
       "<div>\n",
       "<style scoped>\n",
       "    .dataframe tbody tr th:only-of-type {\n",
       "        vertical-align: middle;\n",
       "    }\n",
       "\n",
       "    .dataframe tbody tr th {\n",
       "        vertical-align: top;\n",
       "    }\n",
       "\n",
       "    .dataframe thead th {\n",
       "        text-align: right;\n",
       "    }\n",
       "</style>\n",
       "<table border=\"1\" class=\"dataframe\">\n",
       "  <thead>\n",
       "    <tr style=\"text-align: right;\">\n",
       "      <th></th>\n",
       "      <th>Patient_Week</th>\n",
       "      <th>FVC</th>\n",
       "      <th>Confidence</th>\n",
       "    </tr>\n",
       "  </thead>\n",
       "  <tbody>\n",
       "    <tr>\n",
       "      <th>0</th>\n",
       "      <td>ID00419637202311204720264_-12</td>\n",
       "      <td>3020.0</td>\n",
       "      <td>70.186855</td>\n",
       "    </tr>\n",
       "    <tr>\n",
       "      <th>1</th>\n",
       "      <td>ID00421637202311550012437_-12</td>\n",
       "      <td>2739.0</td>\n",
       "      <td>82.045291</td>\n",
       "    </tr>\n",
       "    <tr>\n",
       "      <th>2</th>\n",
       "      <td>ID00422637202311677017371_-12</td>\n",
       "      <td>1930.0</td>\n",
       "      <td>76.672493</td>\n",
       "    </tr>\n",
       "    <tr>\n",
       "      <th>3</th>\n",
       "      <td>ID00423637202312137826377_-12</td>\n",
       "      <td>3294.0</td>\n",
       "      <td>79.258903</td>\n",
       "    </tr>\n",
       "    <tr>\n",
       "      <th>4</th>\n",
       "      <td>ID00426637202313170790466_-12</td>\n",
       "      <td>2925.0</td>\n",
       "      <td>71.824968</td>\n",
       "    </tr>\n",
       "  </tbody>\n",
       "</table>\n",
       "</div>"
      ],
      "text/plain": [
       "                    Patient_Week     FVC  Confidence\n",
       "0  ID00419637202311204720264_-12  3020.0   70.186855\n",
       "1  ID00421637202311550012437_-12  2739.0   82.045291\n",
       "2  ID00422637202311677017371_-12  1930.0   76.672493\n",
       "3  ID00423637202312137826377_-12  3294.0   79.258903\n",
       "4  ID00426637202313170790466_-12  2925.0   71.824968"
      ]
     },
     "execution_count": 54,
     "metadata": {
      "tags": []
     },
     "output_type": "execute_result"
    }
   ],
   "source": [
    "sub_sub = pd.read_csv(\"drive1/Colab Notebooks/submission.csv\") \n",
    "sub_sub.head() "
   ]
  }
 ],
 "metadata": {
  "accelerator": "GPU",
  "colab": {
   "collapsed_sections": [],
   "name": "OSIC_Pulmonary_project_CNN_model_efficientnetB4_6image_concat_upload_to_kaggle.ipynb",
   "provenance": []
  },
  "kernelspec": {
   "display_name": "Python 3",
   "language": "python",
   "name": "python3"
  },
  "language_info": {
   "codemirror_mode": {
    "name": "ipython",
    "version": 3
   },
   "file_extension": ".py",
   "mimetype": "text/x-python",
   "name": "python",
   "nbconvert_exporter": "python",
   "pygments_lexer": "ipython3",
   "version": "3.8.5"
  },
  "widgets": {
   "application/vnd.jupyter.widget-state+json": {
    "0350c23b6c424084a933fbcc6c0ff174": {
     "model_module": "@jupyter-widgets/base",
     "model_module_version": "1.2.0",
     "model_name": "LayoutModel",
     "state": {
      "_model_module": "@jupyter-widgets/base",
      "_model_module_version": "1.2.0",
      "_model_name": "LayoutModel",
      "_view_count": null,
      "_view_module": "@jupyter-widgets/base",
      "_view_module_version": "1.2.0",
      "_view_name": "LayoutView",
      "align_content": null,
      "align_items": null,
      "align_self": null,
      "border": null,
      "bottom": null,
      "display": null,
      "flex": null,
      "flex_flow": null,
      "grid_area": null,
      "grid_auto_columns": null,
      "grid_auto_flow": null,
      "grid_auto_rows": null,
      "grid_column": null,
      "grid_gap": null,
      "grid_row": null,
      "grid_template_areas": null,
      "grid_template_columns": null,
      "grid_template_rows": null,
      "height": null,
      "justify_content": null,
      "justify_items": null,
      "left": null,
      "margin": null,
      "max_height": null,
      "max_width": null,
      "min_height": null,
      "min_width": null,
      "object_fit": null,
      "object_position": null,
      "order": null,
      "overflow": null,
      "overflow_x": null,
      "overflow_y": null,
      "padding": null,
      "right": null,
      "top": null,
      "visibility": null,
      "width": null
     }
    },
    "0e51a4d37a2f48ac82570c71c16aa2ec": {
     "model_module": "@jupyter-widgets/controls",
     "model_module_version": "1.5.0",
     "model_name": "HTMLModel",
     "state": {
      "_dom_classes": [],
      "_model_module": "@jupyter-widgets/controls",
      "_model_module_version": "1.5.0",
      "_model_name": "HTMLModel",
      "_view_count": null,
      "_view_module": "@jupyter-widgets/controls",
      "_view_module_version": "1.5.0",
      "_view_name": "HTMLView",
      "description": "",
      "description_tooltip": null,
      "layout": "IPY_MODEL_0350c23b6c424084a933fbcc6c0ff174",
      "placeholder": "​",
      "style": "IPY_MODEL_defb6b2ec1ff4463b17216bd72439aab",
      "value": ""
     }
    },
    "152b467f5e7b4ad29f2a1776851092b1": {
     "model_module": "@jupyter-widgets/controls",
     "model_module_version": "1.5.0",
     "model_name": "DescriptionStyleModel",
     "state": {
      "_model_module": "@jupyter-widgets/controls",
      "_model_module_version": "1.5.0",
      "_model_name": "DescriptionStyleModel",
      "_view_count": null,
      "_view_module": "@jupyter-widgets/base",
      "_view_module_version": "1.2.0",
      "_view_name": "StyleView",
      "description_width": ""
     }
    },
    "1d309a1ae11b45dfbae19070a85b993d": {
     "model_module": "@jupyter-widgets/base",
     "model_module_version": "1.2.0",
     "model_name": "LayoutModel",
     "state": {
      "_model_module": "@jupyter-widgets/base",
      "_model_module_version": "1.2.0",
      "_model_name": "LayoutModel",
      "_view_count": null,
      "_view_module": "@jupyter-widgets/base",
      "_view_module_version": "1.2.0",
      "_view_name": "LayoutView",
      "align_content": null,
      "align_items": null,
      "align_self": null,
      "border": null,
      "bottom": null,
      "display": null,
      "flex": null,
      "flex_flow": null,
      "grid_area": null,
      "grid_auto_columns": null,
      "grid_auto_flow": null,
      "grid_auto_rows": null,
      "grid_column": null,
      "grid_gap": null,
      "grid_row": null,
      "grid_template_areas": null,
      "grid_template_columns": null,
      "grid_template_rows": null,
      "height": null,
      "justify_content": null,
      "justify_items": null,
      "left": null,
      "margin": null,
      "max_height": null,
      "max_width": null,
      "min_height": null,
      "min_width": null,
      "object_fit": null,
      "object_position": null,
      "order": null,
      "overflow": null,
      "overflow_x": null,
      "overflow_y": null,
      "padding": null,
      "right": null,
      "top": null,
      "visibility": null,
      "width": null
     }
    },
    "23a7194330fe49d5ad0ce77e45cd5bc6": {
     "model_module": "@jupyter-widgets/base",
     "model_module_version": "1.2.0",
     "model_name": "LayoutModel",
     "state": {
      "_model_module": "@jupyter-widgets/base",
      "_model_module_version": "1.2.0",
      "_model_name": "LayoutModel",
      "_view_count": null,
      "_view_module": "@jupyter-widgets/base",
      "_view_module_version": "1.2.0",
      "_view_name": "LayoutView",
      "align_content": null,
      "align_items": null,
      "align_self": null,
      "border": null,
      "bottom": null,
      "display": null,
      "flex": null,
      "flex_flow": null,
      "grid_area": null,
      "grid_auto_columns": null,
      "grid_auto_flow": null,
      "grid_auto_rows": null,
      "grid_column": null,
      "grid_gap": null,
      "grid_row": null,
      "grid_template_areas": null,
      "grid_template_columns": null,
      "grid_template_rows": null,
      "height": null,
      "justify_content": null,
      "justify_items": null,
      "left": null,
      "margin": null,
      "max_height": null,
      "max_width": null,
      "min_height": null,
      "min_width": null,
      "object_fit": null,
      "object_position": null,
      "order": null,
      "overflow": null,
      "overflow_x": null,
      "overflow_y": null,
      "padding": null,
      "right": null,
      "top": null,
      "visibility": null,
      "width": null
     }
    },
    "34a740f4dd4f4389a7b5acf39aaf74fa": {
     "model_module": "@jupyter-widgets/base",
     "model_module_version": "1.2.0",
     "model_name": "LayoutModel",
     "state": {
      "_model_module": "@jupyter-widgets/base",
      "_model_module_version": "1.2.0",
      "_model_name": "LayoutModel",
      "_view_count": null,
      "_view_module": "@jupyter-widgets/base",
      "_view_module_version": "1.2.0",
      "_view_name": "LayoutView",
      "align_content": null,
      "align_items": null,
      "align_self": null,
      "border": null,
      "bottom": null,
      "display": null,
      "flex": null,
      "flex_flow": null,
      "grid_area": null,
      "grid_auto_columns": null,
      "grid_auto_flow": null,
      "grid_auto_rows": null,
      "grid_column": null,
      "grid_gap": null,
      "grid_row": null,
      "grid_template_areas": null,
      "grid_template_columns": null,
      "grid_template_rows": null,
      "height": null,
      "justify_content": null,
      "justify_items": null,
      "left": null,
      "margin": null,
      "max_height": null,
      "max_width": null,
      "min_height": null,
      "min_width": null,
      "object_fit": null,
      "object_position": null,
      "order": null,
      "overflow": null,
      "overflow_x": null,
      "overflow_y": null,
      "padding": null,
      "right": null,
      "top": null,
      "visibility": null,
      "width": null
     }
    },
    "37428e79a33640a4ba65fa7f48dfae6c": {
     "model_module": "@jupyter-widgets/controls",
     "model_module_version": "1.5.0",
     "model_name": "DescriptionStyleModel",
     "state": {
      "_model_module": "@jupyter-widgets/controls",
      "_model_module_version": "1.5.0",
      "_model_name": "DescriptionStyleModel",
      "_view_count": null,
      "_view_module": "@jupyter-widgets/base",
      "_view_module_version": "1.2.0",
      "_view_name": "StyleView",
      "description_width": ""
     }
    },
    "3ce0108fb35542cda3bc3af07048323b": {
     "model_module": "@jupyter-widgets/base",
     "model_module_version": "1.2.0",
     "model_name": "LayoutModel",
     "state": {
      "_model_module": "@jupyter-widgets/base",
      "_model_module_version": "1.2.0",
      "_model_name": "LayoutModel",
      "_view_count": null,
      "_view_module": "@jupyter-widgets/base",
      "_view_module_version": "1.2.0",
      "_view_name": "LayoutView",
      "align_content": null,
      "align_items": null,
      "align_self": null,
      "border": null,
      "bottom": null,
      "display": null,
      "flex": null,
      "flex_flow": null,
      "grid_area": null,
      "grid_auto_columns": null,
      "grid_auto_flow": null,
      "grid_auto_rows": null,
      "grid_column": null,
      "grid_gap": null,
      "grid_row": null,
      "grid_template_areas": null,
      "grid_template_columns": null,
      "grid_template_rows": null,
      "height": null,
      "justify_content": null,
      "justify_items": null,
      "left": null,
      "margin": null,
      "max_height": null,
      "max_width": null,
      "min_height": null,
      "min_width": null,
      "object_fit": null,
      "object_position": null,
      "order": null,
      "overflow": null,
      "overflow_x": null,
      "overflow_y": null,
      "padding": null,
      "right": null,
      "top": null,
      "visibility": null,
      "width": null
     }
    },
    "3d88bcb2a61b4e878c6c64224db7d169": {
     "model_module": "@jupyter-widgets/base",
     "model_module_version": "1.2.0",
     "model_name": "LayoutModel",
     "state": {
      "_model_module": "@jupyter-widgets/base",
      "_model_module_version": "1.2.0",
      "_model_name": "LayoutModel",
      "_view_count": null,
      "_view_module": "@jupyter-widgets/base",
      "_view_module_version": "1.2.0",
      "_view_name": "LayoutView",
      "align_content": null,
      "align_items": null,
      "align_self": null,
      "border": null,
      "bottom": null,
      "display": null,
      "flex": null,
      "flex_flow": null,
      "grid_area": null,
      "grid_auto_columns": null,
      "grid_auto_flow": null,
      "grid_auto_rows": null,
      "grid_column": null,
      "grid_gap": null,
      "grid_row": null,
      "grid_template_areas": null,
      "grid_template_columns": null,
      "grid_template_rows": null,
      "height": null,
      "justify_content": null,
      "justify_items": null,
      "left": null,
      "margin": null,
      "max_height": null,
      "max_width": null,
      "min_height": null,
      "min_width": null,
      "object_fit": null,
      "object_position": null,
      "order": null,
      "overflow": null,
      "overflow_x": null,
      "overflow_y": null,
      "padding": null,
      "right": null,
      "top": null,
      "visibility": null,
      "width": null
     }
    },
    "58d926f9b15f40edbc0d1dea825100d9": {
     "model_module": "@jupyter-widgets/controls",
     "model_module_version": "1.5.0",
     "model_name": "HBoxModel",
     "state": {
      "_dom_classes": [],
      "_model_module": "@jupyter-widgets/controls",
      "_model_module_version": "1.5.0",
      "_model_name": "HBoxModel",
      "_view_count": null,
      "_view_module": "@jupyter-widgets/controls",
      "_view_module_version": "1.5.0",
      "_view_name": "HBoxView",
      "box_style": "",
      "children": [
       "IPY_MODEL_edc7aa9f2ec54190846055ee50921e48",
       "IPY_MODEL_8c675dac64804363ad8669c27b71f5fd",
       "IPY_MODEL_fdcd51d2935f4bc78e14ad948b0f36db"
      ],
      "layout": "IPY_MODEL_7da44a41fdee441e9dc7b26420b26020"
     }
    },
    "67828e41f71c4ce797edcef839c41d46": {
     "model_module": "@jupyter-widgets/controls",
     "model_module_version": "1.5.0",
     "model_name": "ProgressStyleModel",
     "state": {
      "_model_module": "@jupyter-widgets/controls",
      "_model_module_version": "1.5.0",
      "_model_name": "ProgressStyleModel",
      "_view_count": null,
      "_view_module": "@jupyter-widgets/base",
      "_view_module_version": "1.2.0",
      "_view_name": "StyleView",
      "bar_color": null,
      "description_width": ""
     }
    },
    "75f2f9f8cd6d4d64bccaa61ae6253418": {
     "model_module": "@jupyter-widgets/controls",
     "model_module_version": "1.5.0",
     "model_name": "HTMLModel",
     "state": {
      "_dom_classes": [],
      "_model_module": "@jupyter-widgets/controls",
      "_model_module_version": "1.5.0",
      "_model_name": "HTMLModel",
      "_view_count": null,
      "_view_module": "@jupyter-widgets/controls",
      "_view_module_version": "1.5.0",
      "_view_name": "HTMLView",
      "description": "",
      "description_tooltip": null,
      "layout": "IPY_MODEL_1d309a1ae11b45dfbae19070a85b993d",
      "placeholder": "​",
      "style": "IPY_MODEL_37428e79a33640a4ba65fa7f48dfae6c",
      "value": " 176/? [00:00&lt;00:00, 718.20it/s]"
     }
    },
    "78ff9e4c70c64dbfb1aba0b73f970dfe": {
     "model_module": "@jupyter-widgets/base",
     "model_module_version": "1.2.0",
     "model_name": "LayoutModel",
     "state": {
      "_model_module": "@jupyter-widgets/base",
      "_model_module_version": "1.2.0",
      "_model_name": "LayoutModel",
      "_view_count": null,
      "_view_module": "@jupyter-widgets/base",
      "_view_module_version": "1.2.0",
      "_view_name": "LayoutView",
      "align_content": null,
      "align_items": null,
      "align_self": null,
      "border": null,
      "bottom": null,
      "display": null,
      "flex": null,
      "flex_flow": null,
      "grid_area": null,
      "grid_auto_columns": null,
      "grid_auto_flow": null,
      "grid_auto_rows": null,
      "grid_column": null,
      "grid_gap": null,
      "grid_row": null,
      "grid_template_areas": null,
      "grid_template_columns": null,
      "grid_template_rows": null,
      "height": null,
      "justify_content": null,
      "justify_items": null,
      "left": null,
      "margin": null,
      "max_height": null,
      "max_width": null,
      "min_height": null,
      "min_width": null,
      "object_fit": null,
      "object_position": null,
      "order": null,
      "overflow": null,
      "overflow_x": null,
      "overflow_y": null,
      "padding": null,
      "right": null,
      "top": null,
      "visibility": null,
      "width": "20px"
     }
    },
    "7da44a41fdee441e9dc7b26420b26020": {
     "model_module": "@jupyter-widgets/base",
     "model_module_version": "1.2.0",
     "model_name": "LayoutModel",
     "state": {
      "_model_module": "@jupyter-widgets/base",
      "_model_module_version": "1.2.0",
      "_model_name": "LayoutModel",
      "_view_count": null,
      "_view_module": "@jupyter-widgets/base",
      "_view_module_version": "1.2.0",
      "_view_name": "LayoutView",
      "align_content": null,
      "align_items": null,
      "align_self": null,
      "border": null,
      "bottom": null,
      "display": null,
      "flex": null,
      "flex_flow": null,
      "grid_area": null,
      "grid_auto_columns": null,
      "grid_auto_flow": null,
      "grid_auto_rows": null,
      "grid_column": null,
      "grid_gap": null,
      "grid_row": null,
      "grid_template_areas": null,
      "grid_template_columns": null,
      "grid_template_rows": null,
      "height": null,
      "justify_content": null,
      "justify_items": null,
      "left": null,
      "margin": null,
      "max_height": null,
      "max_width": null,
      "min_height": null,
      "min_width": null,
      "object_fit": null,
      "object_position": null,
      "order": null,
      "overflow": null,
      "overflow_x": null,
      "overflow_y": null,
      "padding": null,
      "right": null,
      "top": null,
      "visibility": null,
      "width": null
     }
    },
    "8c675dac64804363ad8669c27b71f5fd": {
     "model_module": "@jupyter-widgets/controls",
     "model_module_version": "1.5.0",
     "model_name": "FloatProgressModel",
     "state": {
      "_dom_classes": [],
      "_model_module": "@jupyter-widgets/controls",
      "_model_module_version": "1.5.0",
      "_model_name": "FloatProgressModel",
      "_view_count": null,
      "_view_module": "@jupyter-widgets/controls",
      "_view_module_version": "1.5.0",
      "_view_name": "ProgressView",
      "bar_style": "success",
      "description": "",
      "description_tooltip": null,
      "layout": "IPY_MODEL_23a7194330fe49d5ad0ce77e45cd5bc6",
      "max": 9,
      "min": 0,
      "orientation": "horizontal",
      "style": "IPY_MODEL_67828e41f71c4ce797edcef839c41d46",
      "value": 9
     }
    },
    "8f00a462dd2d4898bd07c264de50a80e": {
     "model_module": "@jupyter-widgets/controls",
     "model_module_version": "1.5.0",
     "model_name": "HBoxModel",
     "state": {
      "_dom_classes": [],
      "_model_module": "@jupyter-widgets/controls",
      "_model_module_version": "1.5.0",
      "_model_name": "HBoxModel",
      "_view_count": null,
      "_view_module": "@jupyter-widgets/controls",
      "_view_module_version": "1.5.0",
      "_view_name": "HBoxView",
      "box_style": "",
      "children": [
       "IPY_MODEL_0e51a4d37a2f48ac82570c71c16aa2ec",
       "IPY_MODEL_c5ecb6f5d23243d0a03b6596c8f109bb",
       "IPY_MODEL_75f2f9f8cd6d4d64bccaa61ae6253418"
      ],
      "layout": "IPY_MODEL_3ce0108fb35542cda3bc3af07048323b"
     }
    },
    "c5ecb6f5d23243d0a03b6596c8f109bb": {
     "model_module": "@jupyter-widgets/controls",
     "model_module_version": "1.5.0",
     "model_name": "FloatProgressModel",
     "state": {
      "_dom_classes": [],
      "_model_module": "@jupyter-widgets/controls",
      "_model_module_version": "1.5.0",
      "_model_name": "FloatProgressModel",
      "_view_count": null,
      "_view_module": "@jupyter-widgets/controls",
      "_view_module_version": "1.5.0",
      "_view_name": "ProgressView",
      "bar_style": "success",
      "description": "",
      "description_tooltip": null,
      "layout": "IPY_MODEL_78ff9e4c70c64dbfb1aba0b73f970dfe",
      "max": 1,
      "min": 0,
      "orientation": "horizontal",
      "style": "IPY_MODEL_c6e250d9bc20461eac0991f5caa3248a",
      "value": 1
     }
    },
    "c6e250d9bc20461eac0991f5caa3248a": {
     "model_module": "@jupyter-widgets/controls",
     "model_module_version": "1.5.0",
     "model_name": "ProgressStyleModel",
     "state": {
      "_model_module": "@jupyter-widgets/controls",
      "_model_module_version": "1.5.0",
      "_model_name": "ProgressStyleModel",
      "_view_count": null,
      "_view_module": "@jupyter-widgets/base",
      "_view_module_version": "1.2.0",
      "_view_name": "StyleView",
      "bar_color": null,
      "description_width": ""
     }
    },
    "defb6b2ec1ff4463b17216bd72439aab": {
     "model_module": "@jupyter-widgets/controls",
     "model_module_version": "1.5.0",
     "model_name": "DescriptionStyleModel",
     "state": {
      "_model_module": "@jupyter-widgets/controls",
      "_model_module_version": "1.5.0",
      "_model_name": "DescriptionStyleModel",
      "_view_count": null,
      "_view_module": "@jupyter-widgets/base",
      "_view_module_version": "1.2.0",
      "_view_name": "StyleView",
      "description_width": ""
     }
    },
    "edc7aa9f2ec54190846055ee50921e48": {
     "model_module": "@jupyter-widgets/controls",
     "model_module_version": "1.5.0",
     "model_name": "HTMLModel",
     "state": {
      "_dom_classes": [],
      "_model_module": "@jupyter-widgets/controls",
      "_model_module_version": "1.5.0",
      "_model_name": "HTMLModel",
      "_view_count": null,
      "_view_module": "@jupyter-widgets/controls",
      "_view_module_version": "1.5.0",
      "_view_name": "HTMLView",
      "description": "",
      "description_tooltip": null,
      "layout": "IPY_MODEL_34a740f4dd4f4389a7b5acf39aaf74fa",
      "placeholder": "​",
      "style": "IPY_MODEL_152b467f5e7b4ad29f2a1776851092b1",
      "value": "100%"
     }
    },
    "f68320e127de4892ad4156d618466aea": {
     "model_module": "@jupyter-widgets/controls",
     "model_module_version": "1.5.0",
     "model_name": "DescriptionStyleModel",
     "state": {
      "_model_module": "@jupyter-widgets/controls",
      "_model_module_version": "1.5.0",
      "_model_name": "DescriptionStyleModel",
      "_view_count": null,
      "_view_module": "@jupyter-widgets/base",
      "_view_module_version": "1.2.0",
      "_view_name": "StyleView",
      "description_width": ""
     }
    },
    "fdcd51d2935f4bc78e14ad948b0f36db": {
     "model_module": "@jupyter-widgets/controls",
     "model_module_version": "1.5.0",
     "model_name": "HTMLModel",
     "state": {
      "_dom_classes": [],
      "_model_module": "@jupyter-widgets/controls",
      "_model_module_version": "1.5.0",
      "_model_name": "HTMLModel",
      "_view_count": null,
      "_view_module": "@jupyter-widgets/controls",
      "_view_module_version": "1.5.0",
      "_view_name": "HTMLView",
      "description": "",
      "description_tooltip": null,
      "layout": "IPY_MODEL_3d88bcb2a61b4e878c6c64224db7d169",
      "placeholder": "​",
      "style": "IPY_MODEL_f68320e127de4892ad4156d618466aea",
      "value": " 9/9 [38:03&lt;00:00, 243.11s/it]"
     }
    }
   }
  }
 },
 "nbformat": 4,
 "nbformat_minor": 1
}
